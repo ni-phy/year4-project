{
 "cells": [
  {
   "cell_type": "code",
   "execution_count": 1,
   "metadata": {
    "id": "Y2q42cTAsMdB"
   },
   "outputs": [],
   "source": [
    "\n",
    "import matplotlib.pyplot as plt\n",
    "\n",
    "import numpy as np\n",
    "import scipy as sp\n",
    "\n",
    "import pymc3 as pm\n",
    "import theano.tensor as tt\n",
    "\n"
   ]
  },
  {
   "cell_type": "markdown",
   "metadata": {
    "id": "kMembnxCcM_-"
   },
   "source": [
    "Primary resources for making this: \n",
    "https://docs.pymc.io/notebooks/GP-Marginal.html\n",
    "https://github.com/fonnesbeck/gp_regression\n",
    "\n",
    "Look into: \n",
    "https://docs.pymc.io/notebooks/posterior_predictive.html\n"
   ]
  },
  {
   "cell_type": "code",
   "execution_count": 2,
   "metadata": {
    "id": "0YW85-BrUvl9"
   },
   "outputs": [],
   "source": [
    "sparse = False\n",
    "map = True\n"
   ]
  },
  {
   "cell_type": "code",
   "execution_count": 3,
   "metadata": {
    "id": "Txco-RxS82z9"
   },
   "outputs": [],
   "source": [
    "\n",
    "data = np.genfromtxt('/Users/davies/Guy-R-Davies/Y4Projects/Gyro_data_sim/gyro_fake_data_v0.csv', delimiter=',', skip_header=1)\n"
   ]
  },
  {
   "cell_type": "code",
   "execution_count": 4,
   "metadata": {
    "id": "bDwzpTV3JRLl"
   },
   "outputs": [],
   "source": [
    "class Sqr_root(pm.gp.mean.Mean):\n",
    "    '''Custom mean func of sqr root'''\n",
    "    def __init__(self, coeffs=0, intercept=0):\n",
    "        pm.gp.mean.Mean.__init__(self)\n",
    "        self.b = intercept\n",
    "        self.A = coeffs\n",
    "\n",
    "    def __call__(self, X):\n",
    "        return tt.squeeze(tt.dot(X**0.5, self.A) + self.b)\n",
    "        #return tt.alloc(tt.add(tt.dot(tt.sqrt(X), self.A), self.B), X.shape[0])\n",
    "     #   return tt.squeeze(tt.dot(X, self.A) + self.b)\n",
    "     \n",
    "\n",
    "\n",
    "\n",
    "\n",
    "\n",
    "\n",
    "\n",
    "\n"
   ]
  },
  {
   "cell_type": "code",
   "execution_count": 14,
   "metadata": {
    "colab": {
     "base_uri": "https://localhost:8080/",
     "height": 129
    },
    "id": "p6zpD_4asRxC",
    "outputId": "2b92bb96-4964-4c63-b636-1a23b04be73c"
   },
   "outputs": [
    {
     "name": "stderr",
     "output_type": "stream",
     "text": [
      "/Users/davies/Library/Python/3.7/lib/python/site-packages/theano/tensor/basic.py:6611: FutureWarning: Using a non-tuple sequence for multidimensional indexing is deprecated; use `arr[tuple(seq)]` instead of `arr[seq]`. In the future this will be interpreted as an array index, `arr[np.array(seq)]`, which will result either in an error or a different result.\n",
      "  result[diagonal_slice] = x\n"
     ]
    },
    {
     "data": {
      "text/html": [
       "\n",
       "    <div>\n",
       "        <style>\n",
       "            /* Turns off some styling */\n",
       "            progress {\n",
       "                /* gets rid of default border in Firefox and Opera. */\n",
       "                border: none;\n",
       "                /* Needs to be in here for Safari polyfill so background images work as expected. */\n",
       "                background-size: auto;\n",
       "            }\n",
       "            .progress-bar-interrupted, .progress-bar-interrupted::-webkit-progress-bar {\n",
       "                background: #F44336;\n",
       "            }\n",
       "        </style>\n",
       "      <progress value='27' class='' max='27' style='width:300px; height:20px; vertical-align: middle;'></progress>\n",
       "      100.00% [27/27 00:00<00:00 logp = -148.05, ||grad|| = 0.63043]\n",
       "    </div>\n",
       "    "
      ],
      "text/plain": [
       "<IPython.core.display.HTML object>"
      ]
     },
     "metadata": {},
     "output_type": "display_data"
    },
    {
     "name": "stdout",
     "output_type": "stream",
     "text": [
      "\n"
     ]
    }
   ],
   "source": [
    "\n",
    "\n",
    "X = data[:, 1].T\n",
    "y = data[:, 2].T\n",
    "\n",
    "\n",
    "with pm.Model() as model:\n",
    "    \n",
    "    p0 = pm.Normal('p0', 10.0, 3.0)\n",
    "    \n",
    "    mean = p0 * (X)**0.5 \n",
    "    resid = y - mean\n",
    "    \n",
    "    #l = pm.Uniform('l', 0, 40)\n",
    "    l = pm.Normal('l', mu = 12, sigma=5)\n",
    "    # change this to favour long lengthscales\n",
    "    # chosing lengths and sigma over a uniform range\n",
    "    sigma = pm.HalfCauchy('sigma', beta=5)\n",
    "    # range of values of sigma needs to cover all data. 15 - 30 days \n",
    "    # set as a guassian with a mean of 20 with a sd of 7.5\n",
    "\n",
    "\n",
    "    #mean = Sqr_root((y/X).mean()) # This is where I have the best success\n",
    "    K = sigma**2 * pm.gp.cov.ExpQuad(1, l)\n",
    "    # Exp squared covariance function the 1 means 1 input dim\n",
    "\n",
    "    gp = pm.gp.Marginal(cov_func=K)\n",
    "    obs = gp.marginal_likelihood(\"obs\", X=X.reshape(-1,1), y=resid, noise=sigma)\n",
    "\n",
    "    if map:\n",
    "        trace = [pm.find_MAP()]\n",
    "    \n",
    "\n",
    "#print(trace)"
   ]
  },
  {
   "cell_type": "code",
   "execution_count": 15,
   "metadata": {
    "id": "QJ2cYX0Dl4Ts"
   },
   "outputs": [],
   "source": [
    "if not map:\n",
    "  with model:\n",
    "    trace = pm.sample(1000, tune=2000, cores=8)\n",
    " # dont need if using find map\n"
   ]
  },
  {
   "cell_type": "code",
   "execution_count": 16,
   "metadata": {
    "colab": {
     "base_uri": "https://localhost:8080/",
     "height": 35
    },
    "id": "pA2TayP69uE_",
    "outputId": "c8365400-524f-46bd-8c11-2be2ecac7a19"
   },
   "outputs": [
    {
     "data": {
      "text/plain": [
       "\"\\nwith model:\\n  f_pred = gp.conditional('f_pred', X_pred.reshape(-1,1), pred_noise=True) # predict function\\n  pred_samples = pm.sample_posterior_predictive(trace, vars=[f_pred], samples=2500) # predicts 1000 data points?\\n  \""
      ]
     },
     "execution_count": 16,
     "metadata": {},
     "output_type": "execute_result"
    }
   ],
   "source": [
    "X_pred = np.linspace(0, 13.4, num=600)[:,None]\n",
    "'''\n",
    "with model:\n",
    "  f_pred = gp.conditional('f_pred', X_pred.reshape(-1,1), pred_noise=True) # predict function\n",
    "  pred_samples = pm.sample_posterior_predictive(trace, vars=[f_pred], samples=2500) # predicts 1000 data points?\n",
    "  '''"
   ]
  },
  {
   "cell_type": "code",
   "execution_count": 20,
   "metadata": {
    "id": "HJT7t7UEGQ4R"
   },
   "outputs": [
    {
     "name": "stderr",
     "output_type": "stream",
     "text": [
      "/Users/davies/Library/Python/3.7/lib/python/site-packages/theano/tensor/basic.py:6611: FutureWarning: Using a non-tuple sequence for multidimensional indexing is deprecated; use `arr[tuple(seq)]` instead of `arr[seq]`. In the future this will be interpreted as an array index, `arr[np.array(seq)]`, which will result either in an error or a different result.\n",
      "  result[diagonal_slice] = x\n"
     ]
    },
    {
     "name": "stdout",
     "output_type": "stream",
     "text": [
      "[-0.40670316 -0.40878395 -0.41086509 -0.41294658 -0.41502839 -0.41711052\n",
      " -0.41919295 -0.42127567 -0.42335868 -0.42544195 -0.42752548 -0.42960926\n",
      " -0.43169326 -0.43377749 -0.43586192 -0.43794655 -0.44003136 -0.44211634\n",
      " -0.44420148 -0.44628677 -0.4483722  -0.45045774 -0.4525434  -0.45462916\n",
      " -0.456715   -0.45880092 -0.46088689 -0.46297292 -0.46505899 -0.46714508\n",
      " -0.46923118 -0.47131728 -0.47340337 -0.47548944 -0.47757548 -0.47966146\n",
      " -0.48174739 -0.48383324 -0.485919   -0.48800467 -0.49009023 -0.49217567\n",
      " -0.49426098 -0.49634613 -0.49843113 -0.50051596 -0.50260061 -0.50468506\n",
      " -0.5067693  -0.50885332 -0.51093711 -0.51302066 -0.51510394 -0.51718696\n",
      " -0.5192697  -0.52135214 -0.52343428 -0.5255161  -0.52759759 -0.52967873\n",
      " -0.53175952 -0.53383994 -0.53591998 -0.53799963 -0.54007887 -0.5421577\n",
      " -0.5442361  -0.54631405 -0.54839155 -0.55046858 -0.55254514 -0.5546212\n",
      " -0.55669676 -0.5587718  -0.56084632 -0.56292029 -0.56499371 -0.56706657\n",
      " -0.56913884 -0.57121053 -0.57328162 -0.57535209 -0.57742193 -0.57949113\n",
      " -0.58155968 -0.58362757 -0.58569478 -0.5877613  -0.58982712 -0.59189223\n",
      " -0.59395661 -0.59602025 -0.59808314 -0.60014527 -0.60220662 -0.60426719\n",
      " -0.60632695 -0.60838591 -0.61044403 -0.61250132 -0.61455777 -0.61661335\n",
      " -0.61866805 -0.62072187 -0.62277479 -0.6248268  -0.62687789 -0.62892804\n",
      " -0.63097725 -0.63302549 -0.63507276 -0.63711905 -0.63916434 -0.64120862\n",
      " -0.64325188 -0.6452941  -0.64733528 -0.6493754  -0.65141445 -0.65345242\n",
      " -0.65548929 -0.65752506 -0.6595597  -0.66159322 -0.66362559 -0.6656568\n",
      " -0.66768685 -0.66971571 -0.67174339 -0.67376985 -0.6757951  -0.67781913\n",
      " -0.67984191 -0.68186343 -0.68388369 -0.68590268 -0.68792037 -0.68993676\n",
      " -0.69195183 -0.69396558 -0.69597799 -0.69798905 -0.69999875 -0.70200707\n",
      " -0.70401401 -0.70601955 -0.70802367 -0.71002637 -0.71202764 -0.71402746\n",
      " -0.71602582 -0.71802271 -0.72001812 -0.72201203 -0.72400443 -0.72599532\n",
      " -0.72798467 -0.72997248 -0.73195873 -0.73394342 -0.73592653 -0.73790805\n",
      " -0.73988796 -0.74186626 -0.74384294 -0.74581797 -0.74779136 -0.74976308\n",
      " -0.75173313 -0.75370149 -0.75566815 -0.75763311 -0.75959634 -0.76155784\n",
      " -0.7635176  -0.76547559 -0.76743182 -0.76938627 -0.77133893 -0.77328978\n",
      " -0.77523882 -0.77718603 -0.77913141 -0.78107493 -0.78301659 -0.78495637\n",
      " -0.78689427 -0.78883028 -0.79076437 -0.79269655 -0.79462679 -0.79655509\n",
      " -0.79848143 -0.80040581 -0.80232821 -0.80424862 -0.80616703 -0.80808343\n",
      " -0.8099978  -0.81191014 -0.81382043 -0.81572866 -0.81763482 -0.8195389\n",
      " -0.82144089 -0.82334078 -0.82523855 -0.82713419 -0.8290277  -0.83091905\n",
      " -0.83280825 -0.83469527 -0.83658012 -0.83846276 -0.8403432  -0.84222143\n",
      " -0.84409743 -0.84597119 -0.8478427  -0.84971194 -0.85157892 -0.85344361\n",
      " -0.85530601 -0.8571661  -0.85902387 -0.86087932 -0.86273243 -0.86458319\n",
      " -0.86643159 -0.86827761 -0.87012126 -0.87196251 -0.87380135 -0.87563779\n",
      " -0.87747179 -0.87930336 -0.88113248 -0.88295914 -0.88478333 -0.88660504\n",
      " -0.88842426 -0.89024098 -0.89205519 -0.89386687 -0.89567602 -0.89748262\n",
      " -0.89928667 -0.90108816 -0.90288706 -0.90468338 -0.90647711 -0.90826822\n",
      " -0.91005672 -0.91184259 -0.91362581 -0.91540639 -0.91718431 -0.91895955\n",
      " -0.92073212 -0.92250199 -0.92426916 -0.92603362 -0.92779536 -0.92955436\n",
      " -0.93131062 -0.93306413 -0.93481487 -0.93656284 -0.93830803 -0.94005042\n",
      " -0.94179001 -0.94352678 -0.94526073 -0.94699184 -0.94872011 -0.95044552\n",
      " -0.95216807 -0.95388775 -0.95560454 -0.95731843 -0.95902943 -0.9607375\n",
      " -0.96244265 -0.96414487 -0.96584415 -0.96754047 -0.96923383 -0.97092421\n",
      " -0.97261161 -0.97429602 -0.97597743 -0.97765582 -0.9793312  -0.98100354\n",
      " -0.98267284 -0.98433909 -0.98600228 -0.9876624  -0.98931945 -0.9909734\n",
      " -0.99262426 -0.99427201 -0.99591664 -0.99755815 -0.99919653 -1.00083175\n",
      " -1.00246383 -1.00409274 -1.00571848 -1.00734104 -1.00896041 -1.01057658\n",
      " -1.01218954 -1.01379928 -1.0154058  -1.01700908 -1.01860911 -1.02020589\n",
      " -1.02179941 -1.02338965 -1.02497662 -1.02656029 -1.02814067 -1.02971774\n",
      " -1.03129149 -1.03286192 -1.03442901 -1.03599277 -1.03755317 -1.03911021\n",
      " -1.04066388 -1.04221418 -1.04376109 -1.0453046  -1.04684472 -1.04838142\n",
      " -1.0499147  -1.05144456 -1.05297098 -1.05449395 -1.05601347 -1.05752953\n",
      " -1.05904212 -1.06055123 -1.06205685 -1.06355898 -1.06505761 -1.06655273\n",
      " -1.06804433 -1.0695324  -1.07101693 -1.07249792 -1.07397536 -1.07544925\n",
      " -1.07691956 -1.0783863  -1.07984945 -1.08130902 -1.08276499 -1.08421735\n",
      " -1.08566609 -1.08711122 -1.08855271 -1.08999057 -1.09142478 -1.09285534\n",
      " -1.09428224 -1.09570547 -1.09712502 -1.0985409  -1.09995308 -1.10136156\n",
      " -1.10276634 -1.10416741 -1.10556476 -1.10695838 -1.10834826 -1.1097344\n",
      " -1.1111168  -1.11249544 -1.11387031 -1.11524141 -1.11660874 -1.11797228\n",
      " -1.11933203 -1.12068798 -1.12204013 -1.12338846 -1.12473297 -1.12607366\n",
      " -1.12741051 -1.12874353 -1.13007269 -1.131398   -1.13271946 -1.13403704\n",
      " -1.13535075 -1.13666058 -1.13796653 -1.13926858 -1.14056673 -1.14186097\n",
      " -1.1431513  -1.14443771 -1.1457202  -1.14699875 -1.14827336 -1.14954403\n",
      " -1.15081075 -1.15207351 -1.15333231 -1.15458714 -1.15583799 -1.15708486\n",
      " -1.15832774 -1.15956662 -1.16080151 -1.16203239 -1.16325926 -1.16448211\n",
      " -1.16570094 -1.16691573 -1.1681265  -1.16933322 -1.17053589 -1.17173451\n",
      " -1.17292907 -1.17411957 -1.175306   -1.17648835 -1.17766662 -1.17884081\n",
      " -1.1800109  -1.1811769  -1.18233879 -1.18349658 -1.18465025 -1.1857998\n",
      " -1.18694523 -1.18808653 -1.1892237  -1.19035672 -1.19148561 -1.19261034\n",
      " -1.19373092 -1.19484733 -1.19595959 -1.19706767 -1.19817158 -1.19927131\n",
      " -1.20036685 -1.2014582  -1.20254536 -1.20362833 -1.20470708 -1.20578163\n",
      " -1.20685197 -1.20791809 -1.20897998 -1.21003765 -1.21109109 -1.21214029\n",
      " -1.21318526 -1.21422598 -1.21526244 -1.21629466 -1.21732262 -1.21834631\n",
      " -1.21936574 -1.2203809  -1.22139179 -1.2223984  -1.22340072 -1.22439876\n",
      " -1.2253925  -1.22638195 -1.22736711 -1.22834795 -1.2293245  -1.23029673\n",
      " -1.23126465 -1.23222825 -1.23318753 -1.23414248 -1.2350931  -1.2360394\n",
      " -1.23698135 -1.23791896 -1.23885224 -1.23978116 -1.24070573 -1.24162595\n",
      " -1.24254181 -1.24345332 -1.24436045 -1.24526322 -1.24616162 -1.24705565\n",
      " -1.2479453  -1.24883057 -1.24971145 -1.25058795 -1.25146006 -1.25232778\n",
      " -1.2531911  -1.25405002 -1.25490455 -1.25575466 -1.25660038 -1.25744168\n",
      " -1.25827857 -1.25911104 -1.2599391  -1.26076274 -1.26158195 -1.26239674\n",
      " -1.2632071  -1.26401303 -1.26481452 -1.26561158 -1.2664042  -1.26719239\n",
      " -1.26797612 -1.26875542 -1.26953027 -1.27030066 -1.27106661 -1.2718281\n",
      " -1.27258514 -1.27333772 -1.27408583 -1.27482949 -1.27556868 -1.27630341\n",
      " -1.27703367 -1.27775945 -1.27848077 -1.27919761 -1.27990998 -1.28061787\n",
      " -1.28132129 -1.28202022 -1.28271467 -1.28340464 -1.28409012 -1.28477112\n",
      " -1.28544763 -1.28611965 -1.28678717 -1.28745021 -1.28810875 -1.2887628\n",
      " -1.28941235 -1.29005741 -1.29069796 -1.29133402 -1.29196558 -1.29259263\n",
      " -1.29321518 -1.29383323 -1.29444677 -1.29505581 -1.29566034 -1.29626036\n",
      " -1.29685588 -1.29744688 -1.29803338 -1.29861536 -1.29919283 -1.29976579\n",
      " -1.30033424 -1.30089818 -1.3014576  -1.30201251 -1.3025629  -1.30310877\n",
      " -1.30365013 -1.30418698 -1.30471931 -1.30524712 -1.30577041 -1.30628919\n",
      " -1.30680345 -1.30731319 -1.30781842 -1.30831912 -1.30881531 -1.30930698\n",
      " -1.30979414 -1.31027677 -1.31075489 -1.31122849 -1.31169757 -1.31216213\n",
      " -1.31262218 -1.31307771 -1.31352872 -1.31397522 -1.3144172  -1.31485467]\n"
     ]
    }
   ],
   "source": [
    "'''\n",
    "x = np.array([gp.predict(X_pred, point=trace, diag=True) for i in range(100)])\n",
    "gp.predict()\n",
    "mu = np.mean(x[:, 0, :],axis=0)\n",
    "var = np.mean(x[:, 1, :],axis=0)\n",
    "'''\n",
    "\n",
    "mu, var = gp.predict(X_pred, point=trace, diag=True, pred_noise=False)\n",
    "\n",
    "print(mu)\n",
    "# do this like 1000 timea?\n",
    "sd = np.sqrt(var)\n"
   ]
  },
  {
   "cell_type": "code",
   "execution_count": 18,
   "metadata": {},
   "outputs": [
    {
     "data": {
      "text/plain": [
       "{'p0': array(9.69415236),\n",
       " 'l': array(13.09881558),\n",
       " 'sigma_log__': array(-0.03318277),\n",
       " 'sigma': array(0.96736174)}"
      ]
     },
     "execution_count": 18,
     "metadata": {},
     "output_type": "execute_result"
    }
   ],
   "source": [
    "trace[0]['p0']\n",
    "trace[0]"
   ]
  },
  {
   "cell_type": "markdown",
   "metadata": {
    "id": "yX6Jm03zGAVt"
   },
   "source": []
  },
  {
   "cell_type": "code",
   "execution_count": 22,
   "metadata": {
    "colab": {
     "base_uri": "https://localhost:8080/",
     "height": 502
    },
    "id": "AqGcR-DY_2jM",
    "outputId": "dd0033d1-a44a-42a9-d64a-aaad126cfbc3"
   },
   "outputs": [
    {
     "data": {
      "image/png": "[encoded data removed]",
      "text/plain": [
       "<Figure size 864x576 with 1 Axes>"
      ]
     },
     "metadata": {
      "needs_background": "light"
     },
     "output_type": "display_data"
    }
   ],
   "source": [
    "fig = plt.figure(figsize=(12,8)); ax = fig.gca()\n",
    "from pymc3.gp.util import plot_gp_dist\n",
    "\n",
    "#plot_gp_dist(ax, pred_samples[\"f_pred\"], X_pred, plot_samples=False)# label='Gaussian process distribution')\n",
    "\n",
    "#plt.plot(X_pred, pred_samples[\"f_pred\"][500, :].T, \"x\", ms=2, label=\"Predicted data\")\n",
    "\n",
    "mean = (trace[0]['p0'] * X_pred[:, 0]**0.5)\n",
    "\n",
    "plt.plot(X, y, 'ok', ms=3, alpha=0.5, label=\"Observed data\")\n",
    "plt.plot(X_pred, mean + mu, label='Mean function')\n",
    "\n",
    "mean = (trace[0]['p0'] * X_pred[:, 0]**0.5)\n",
    "plt.fill_between(X_pred.flatten(), (mean + mu) - sd, (mean + mu) + sd, color=\"r\", alpha=0.5, label=r'$\\pm 1\\sigma$')\n",
    "\n",
    "\n",
    "plt.plot(0,0, 'r', label='Posterior prediction distribution')\n",
    "\n",
    "#plt.axvspan(min(X), max(X), alpha=0.3, color='red', label='Data region')\n",
    "\n",
    "plt.xlim(0,13.4)\n",
    "\n",
    "# axis labels and title\n",
    "plt.xlabel(\"Age (Gyrs)\", fontsize=16)\n",
    "plt.ylabel(\"Rotation (Days)\" ,fontsize=16)\n",
    "#plt.title(\"Posterior distribution over $f(x)$ at the observed values\")\n",
    "plt.legend(prop={'size': 14})\n",
    "\n",
    "plt.savefig('2dgp.png')"
   ]
  },
  {
   "cell_type": "code",
   "execution_count": null,
   "metadata": {
    "colab": {
     "base_uri": "https://localhost:8080/",
     "height": 35
    },
    "id": "sGJOZDYzl2Oi",
    "outputId": "6a6dc066-a3cb-4e6d-e3b9-4338f196bd9f"
   },
   "outputs": [],
   "source": [
    "print(trace)"
   ]
  },
  {
   "cell_type": "code",
   "execution_count": null,
   "metadata": {
    "id": "nvLLcRp0cqT7"
   },
   "outputs": [],
   "source": []
  }
 ],
 "metadata": {
  "colab": {
   "collapsed_sections": [],
   "name": "sample gp fitting.ipynb",
   "provenance": []
  },
  "kernelspec": {
   "display_name": "Python 3",
   "language": "python",
   "name": "python3"
  },
  "language_info": {
   "codemirror_mode": {
    "name": "ipython",
    "version": 3
   },
   "file_extension": ".py",
   "mimetype": "text/x-python",
   "name": "python",
   "nbconvert_exporter": "python",
   "pygments_lexer": "ipython3",
   "version": "3.7.3"
  }
 },
 "nbformat": 4,
 "nbformat_minor": 1
}
