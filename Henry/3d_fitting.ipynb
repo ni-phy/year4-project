{
  "nbformat": 4,
  "nbformat_minor": 0,
  "metadata": {
    "colab": {
      "name": "3d fitting.ipynb",
      "provenance": [],
      "collapsed_sections": []
    },
    "kernelspec": {
      "display_name": "Python 3",
      "name": "python3"
    }
  },
  "cells": [
    {
      "cell_type": "markdown",
      "metadata": {
        "id": "w1TXAb4abul0"
      },
      "source": [
        "# To-do list\r\n",
        "##Implement latent variable model <br>\r\n",
        "replace the value of f by f* where f* is drawn from a distrubtion that uses f as the basis for the prior. \r\n",
        "##Add noise to data and try fit \r\n",
        "I need to think of a smater way to add my error, HalfCauchy is just a bit bashful. If we know that there is an error of x, y, z on measurements a, b, c how can this correlate to the noise in the GP function.<br>\r\n",
        "I should also take into account that the error is gonna be like +/- 10% and therefore should use this to inform my noise function.\r\n",
        "## Take out mass dependance?\r\n",
        "## Metalicty\r\n",
        "# To look into list\r\n",
        "Hierarchical model <br>\r\n",
        "Varitational inference <br>\r\n",
        "Different samplers - HMC <br>\r\n",
        "\r\n",
        "\r\n",
        "\r\n",
        "# rotaation bv and age observers GC\r\n",
        "# period age mass and metalictty fundemental GC\r\n"
      ]
    },
    {
      "cell_type": "code",
      "metadata": {
        "colab": {
          "base_uri": "https://localhost:8080/"
        },
        "id": "lxk9n77qI_wX",
        "outputId": "08eeed23-ba60-4369-b1f6-7e366f2b3894"
      },
      "source": [
        "!pip install pymc3 --upgrade\n",
        "!pip install PyAstronomy"
      ],
      "execution_count": 1,
      "outputs": [
        {
          "output_type": "stream",
          "text": [
            "Requirement already up-to-date: pymc3 in /usr/local/lib/python3.6/dist-packages (3.10.0)\n",
            "Requirement already satisfied, skipping upgrade: patsy>=0.5.1 in /usr/local/lib/python3.6/dist-packages (from pymc3) (0.5.1)\n",
            "Requirement already satisfied, skipping upgrade: contextvars; python_version < \"3.7\" in /usr/local/lib/python3.6/dist-packages (from pymc3) (2.4)\n",
            "Requirement already satisfied, skipping upgrade: fastprogress>=0.2.0 in /usr/local/lib/python3.6/dist-packages (from pymc3) (1.0.0)\n",
            "Requirement already satisfied, skipping upgrade: dill in /usr/local/lib/python3.6/dist-packages (from pymc3) (0.3.3)\n",
            "Requirement already satisfied, skipping upgrade: pandas>=0.18.0 in /usr/local/lib/python3.6/dist-packages (from pymc3) (1.1.5)\n",
            "Requirement already satisfied, skipping upgrade: numpy>=1.13.0 in /usr/local/lib/python3.6/dist-packages (from pymc3) (1.19.5)\n",
            "Requirement already satisfied, skipping upgrade: scipy>=0.18.1 in /usr/local/lib/python3.6/dist-packages (from pymc3) (1.4.1)\n",
            "Requirement already satisfied, skipping upgrade: arviz>=0.9.0 in /usr/local/lib/python3.6/dist-packages (from pymc3) (0.11.1)\n",
            "Requirement already satisfied, skipping upgrade: typing-extensions>=3.7.4 in /usr/local/lib/python3.6/dist-packages (from pymc3) (3.7.4.3)\n",
            "Requirement already satisfied, skipping upgrade: dataclasses; python_version < \"3.7\" in /usr/local/lib/python3.6/dist-packages (from pymc3) (0.8)\n",
            "Requirement already satisfied, skipping upgrade: theano-pymc==1.0.11 in /usr/local/lib/python3.6/dist-packages (from pymc3) (1.0.11)\n",
            "Requirement already satisfied, skipping upgrade: six in /usr/local/lib/python3.6/dist-packages (from patsy>=0.5.1->pymc3) (1.15.0)\n",
            "Requirement already satisfied, skipping upgrade: immutables>=0.9 in /usr/local/lib/python3.6/dist-packages (from contextvars; python_version < \"3.7\"->pymc3) (0.15)\n",
            "Requirement already satisfied, skipping upgrade: python-dateutil>=2.7.3 in /usr/local/lib/python3.6/dist-packages (from pandas>=0.18.0->pymc3) (2.8.1)\n",
            "Requirement already satisfied, skipping upgrade: pytz>=2017.2 in /usr/local/lib/python3.6/dist-packages (from pandas>=0.18.0->pymc3) (2018.9)\n",
            "Requirement already satisfied, skipping upgrade: setuptools>=38.4 in /usr/local/lib/python3.6/dist-packages (from arviz>=0.9.0->pymc3) (53.0.0)\n",
            "Requirement already satisfied, skipping upgrade: xarray>=0.16.1 in /usr/local/lib/python3.6/dist-packages (from arviz>=0.9.0->pymc3) (0.16.2)\n",
            "Requirement already satisfied, skipping upgrade: netcdf4 in /usr/local/lib/python3.6/dist-packages (from arviz>=0.9.0->pymc3) (1.5.5.1)\n",
            "Requirement already satisfied, skipping upgrade: packaging in /usr/local/lib/python3.6/dist-packages (from arviz>=0.9.0->pymc3) (20.9)\n",
            "Requirement already satisfied, skipping upgrade: matplotlib>=3.0 in /usr/local/lib/python3.6/dist-packages (from arviz>=0.9.0->pymc3) (3.2.2)\n",
            "Requirement already satisfied, skipping upgrade: cftime in /usr/local/lib/python3.6/dist-packages (from netcdf4->arviz>=0.9.0->pymc3) (1.4.1)\n",
            "Requirement already satisfied, skipping upgrade: pyparsing>=2.0.2 in /usr/local/lib/python3.6/dist-packages (from packaging->arviz>=0.9.0->pymc3) (2.4.7)\n",
            "Requirement already satisfied, skipping upgrade: cycler>=0.10 in /usr/local/lib/python3.6/dist-packages (from matplotlib>=3.0->arviz>=0.9.0->pymc3) (0.10.0)\n",
            "Requirement already satisfied, skipping upgrade: kiwisolver>=1.0.1 in /usr/local/lib/python3.6/dist-packages (from matplotlib>=3.0->arviz>=0.9.0->pymc3) (1.3.1)\n",
            "Requirement already satisfied: PyAstronomy in /usr/local/lib/python3.6/dist-packages (0.15.2)\n",
            "Requirement already satisfied: six in /usr/local/lib/python3.6/dist-packages (from PyAstronomy) (1.15.0)\n",
            "Requirement already satisfied: numpy in /usr/local/lib/python3.6/dist-packages (from PyAstronomy) (1.19.5)\n"
          ],
          "name": "stdout"
        }
      ]
    },
    {
      "cell_type": "code",
      "metadata": {
        "colab": {
          "base_uri": "https://localhost:8080/"
        },
        "id": "-C8F1X6SkABJ",
        "outputId": "20af8dd4-db5e-433e-ef04-6c0785cf1ddf"
      },
      "source": [
        "import matplotlib.pyplot as plt\n",
        "import numpy as np\n",
        "import scipy\n",
        "import pymc3 as pm\n",
        "import theano as tt\n",
        " \n",
        "from mpl_toolkits.mplot3d import Axes3D\n",
        "from matplotlib  import cm\n",
        "from PyAstronomy import pyasl\n",
        "\n",
        "from google.colab import drive\n",
        "drive.mount('/content/drive')\n",
        "\n",
        "print(f\"Running on PyMC3 v{pm.__version__}\")"
      ],
      "execution_count": 2,
      "outputs": [
        {
          "output_type": "stream",
          "text": [
            "Drive already mounted at /content/drive; to attempt to forcibly remount, call drive.mount(\"/content/drive\", force_remount=True).\n",
            "Running on PyMC3 v3.10.0\n"
          ],
          "name": "stdout"
        }
      ]
    },
    {
      "cell_type": "code",
      "metadata": {
        "colab": {
          "base_uri": "https://localhost:8080/",
          "height": 284
        },
        "id": "Klmm5z_zkS5v",
        "outputId": "1848ca20-af50-435f-aa87-2aa200a4f9d7"
      },
      "source": [
        "##### OPTIONS #####\n",
        "\n",
        "opt_params = 0   # if 1 use predetermined values\n",
        "\n",
        "errorbars = 0   # plot error bars on surface plot \n",
        "smp_rt = 5     # every nth point of true data\n",
        "num_gen = 400 # given n will produce n x n points of predictions\n",
        "\n",
        "\n",
        "data = np.genfromtxt('/content/drive/My Drive/data/data2.csv', delimiter=',', skip_header=1)\n",
        "\n",
        "Teff = data[:,1][0::smp_rt] # Teff\n",
        "Prot = data[:, 2][0::smp_rt]  # Prot\n",
        "Age = data[:, 3][0::smp_rt]  # Age \n",
        "Mass = data[:, 4][0::smp_rt]   # mass\n",
        "b = pyasl.BallesterosBV_T()\n",
        "BV =  b.t2bv(np.array(Teff))\n",
        "#data 1 and data 2 have differnet columns! \n",
        "\n",
        "## Here is where I am adding some noise to the data roughly 5% for mass prot and Teff, 10% for Age\n",
        "\n",
        "data_noise = True\n",
        "n_age = 0.2\n",
        "n_oth = 0.05\n",
        "\n",
        "if data_noise:\n",
        "\n",
        "\n",
        "  Age_err = np.random.uniform(-1,1,len(Age))*Age*n_age\n",
        "  BV_err = np.random.uniform(-1,1,len(Age))*BV*n_oth\n",
        "\n",
        "  Prot_err = np.random.uniform(-1,1,len(Age))*Prot*n_oth\n",
        "  Mass_err = np.random.rand(len(Mass)) * Mass*n_oth\n",
        "\n",
        "  Age  += Age_err\n",
        "  BV += BV_err\n",
        "  Prot += Prot_err \n",
        "  Mass += Mass_err\n",
        "\n",
        "plt.errorbar(Prot, Age, yerr=Age_err, xerr=Prot_err, fmt='o')\n"
      ],
      "execution_count": 3,
      "outputs": [
        {
          "output_type": "execute_result",
          "data": {
            "text/plain": [
              "<ErrorbarContainer object of 3 artists>"
            ]
          },
          "metadata": {
            "tags": []
          },
          "execution_count": 3
        },
        {
          "output_type": "display_data",
          "data": {
            "image/png": "[encoded data removed]",
            "text/plain": [
              "<Figure size 432x288 with 1 Axes>"
            ]
          },
          "metadata": {
            "tags": [],
            "needs_background": "light"
          }
        }
      ]
    },
    {
      "cell_type": "code",
      "metadata": {
        "id": "SnWJG1DSGHjU"
      },
      "source": [
        "def mean_fn(Age, Mass, BV, A, c, d, h, f):\r\n",
        "  return A * Age**c * Mass**d * (BV-h)**f\r\n"
      ],
      "execution_count": 4,
      "outputs": []
    },
    {
      "cell_type": "markdown",
      "metadata": {
        "id": "KMEMZHg7dr1d"
      },
      "source": [
        "https://iopscience.iop.org/article/10.1088/0004-637X/695/1/679/pdf\n",
        "In this article a form is given to determine P from Bv and age that is of a slightly sifferent form to what I am currently using.\n",
        "$P(t, B-V) = t^{0.52} g(B-V -h)^f$ <br>\n",
        "where $g=0.77, h=0.4, f = 0.6$. I will now construct another GP using this as the mean function and see how it goes.\n",
        "\n",
        "Im gonna sort of bash the BV dependance onto the end of my current mass, age mean function and see how it goes B). The new mean function will look like $P(t,m,(B-V)) = At^cm^d((B-V)-h)^f$. Where I a taking d from the previous GP, here A is going to be allowed to vary and the starting value will be $A^{\\star}g$, where $A^{\\star}$ is the A from before.  \n",
        "\n",
        "This has resulted in considerably better results.\n"
      ]
    },
    {
      "cell_type": "code",
      "metadata": {
        "id": "Q1wrxRqcfbdB",
        "colab": {
          "base_uri": "https://localhost:8080/",
          "height": 187
        },
        "outputId": "3e848a1a-eb64-4958-fd31-9807263d48f9"
      },
      "source": [
        "#### book ####\n",
        "g = 0.77\n",
        "h = 0.4 \n",
        "f = 0.6 \n",
        "c=0.52 \n",
        "\n",
        "#determined \n",
        "\n",
        "A = 8 \n",
        "\n",
        "\n",
        "K_b = b.bv2T(np.array(6200)) #  Kraft break\n",
        "\n",
        "#limit = (np.where(BV<K_b))\n",
        "\n",
        "\n",
        "limit = np.where((Prot>0))\n",
        "## big test time \n",
        "\n",
        "\n",
        "BV_short = BV[limit]\n",
        "Prot_short = Prot[limit]\n",
        "Age_short = Age[limit]\n",
        "\n",
        "\n",
        "X = np.array([Age_short, BV_short]).T \n",
        "\n",
        "\n",
        "\n",
        "with pm.Model() as model:\n",
        "\n",
        "    f_ = pm.Normal('f_', f, f*0.5)\n",
        "    A_ = pm.Normal('A_', A*g, A*0.3)\n",
        "  \n",
        "    Age_true = pm.Uniform(\"Age_true\", 0.01, 14, shape=Age_short.shape)\n",
        "    Age_obs = pm.Normal(\"Age_obs\", Age_true, Age_short*n_age, observed=Age_short)\n",
        "\n",
        "    BV_true = pm.Uniform(\"BV_True\", min(BV_short), max(BV_short), shape=BV_short.shape)\n",
        "    BV_obs = pm.Normal(\"BV_obs\", BV_true, BV_short*n_oth, observed=BV_short)\n",
        "\n",
        "    mean = A_* Age_true**c    * (BV_true - h)**f_\n",
        "    resid = Prot_short - mean\n",
        "\n",
        "    l1 = pm.Lognormal('l1', mu=np.log(14.0), sigma=0.11)  # 1\n",
        "    l2 = pm.Lognormal('l2', mu=np.log(3.6), sigma=0.11)\n",
        "    l3 = pm.Lognormal('l3', mu=np.log(4), sigma=0.5)\n",
        "\n",
        "    sf1 = pm.Lognormal(\"sf1\", mu=np.log(15), sigma=5)\n",
        "    sf2 = pm.Lognormal(\"sf2\", mu=np.log(40), sigma=15)\n",
        "    sf3 = pm.Lognormal('sf3', mu=np.log(45), sigma=10)\n",
        "\n",
        "    K1 = pm.gp.cov.ExpQuad(2, l1) * sf1**2\n",
        "    K2 = pm.gp.cov.ExpQuad(2, l2) * sf2**2\n",
        "    K3 = pm.gp.cov.ExpQuad(2, l3) * sf3**2\n",
        "\n",
        "    K = K1 * K2 * K3\n",
        "    \n",
        "    gp = pm.gp.Marginal(cov_func=K)\n",
        "    x = tt.tensor.stack([Age_true, BV_true])\n",
        "\n",
        "    obs = gp.marginal_likelihood(\"obs\", X=x.T , y=resid, noise=1)\n",
        "\n",
        "    #if not var_inf:\n",
        "    mp = pm.find_MAP()"
      ],
      "execution_count": 5,
      "outputs": [
        {
          "output_type": "stream",
          "text": [
            "/usr/local/lib/python3.6/dist-packages/pymc3/gp/cov.py:97: UserWarning: Only 2 column(s) out of Subtensor{int64}.0 are being used to compute the covariance function. If this is not intended, increase 'input_dim' parameter to the number of columns to use. Ignore otherwise.\n",
            "  UserWarning,\n",
            "/usr/local/lib/python3.6/dist-packages/pymc3/gp/cov.py:97: UserWarning: Only 2 column(s) out of Subtensor{int64}.0 are being used to compute the covariance function. If this is not intended, increase 'input_dim' parameter to the number of columns to use. Ignore otherwise.\n",
            "  UserWarning,\n",
            "WARNING (theano.tensor.blas): We did not find a dynamic library in the library_dir of the library we use for blas. If you use ATLAS, make sure to compile it with dynamics library.\n"
          ],
          "name": "stderr"
        },
        {
          "output_type": "display_data",
          "data": {
            "text/html": [
              "\n",
              "    <div>\n",
              "        <style>\n",
              "            /* Turns off some styling */\n",
              "            progress {\n",
              "                /* gets rid of default border in Firefox and Opera. */\n",
              "                border: none;\n",
              "                /* Needs to be in here for Safari polyfill so background images work as expected. */\n",
              "                background-size: auto;\n",
              "            }\n",
              "            .progress-bar-interrupted, .progress-bar-interrupted::-webkit-progress-bar {\n",
              "                background: #F44336;\n",
              "            }\n",
              "        </style>\n",
              "      <progress value='5001' class='' max='5001' style='width:300px; height:20px; vertical-align: middle;'></progress>\n",
              "      100.00% [5001/5001 05:12<00:00 logp = -759.72, ||grad|| = 0.97991]\n",
              "    </div>\n",
              "    "
            ],
            "text/plain": [
              "<IPython.core.display.HTML object>"
            ]
          },
          "metadata": {
            "tags": []
          }
        },
        {
          "output_type": "stream",
          "text": [
            "\n"
          ],
          "name": "stderr"
        },
        {
          "output_type": "stream",
          "text": [
            "\n"
          ],
          "name": "stdout"
        }
      ]
    },
    {
      "cell_type": "code",
      "metadata": {
        "id": "ABdzewdyFuuJ"
      },
      "source": [
        "#from theano.sandbox.jaxify import jax_funcify\r\n",
        "\r\n",
        "#with model:\r\n",
        " # trace = pm.sample(1000, tune=500, cores=2)\r\n",
        "\r\n",
        "\r\n",
        "#pm.traceplot(trace)"
      ],
      "execution_count": 6,
      "outputs": []
    },
    {
      "cell_type": "code",
      "metadata": {
        "colab": {
          "base_uri": "https://localhost:8080/",
          "height": 55
        },
        "id": "IOPvYJ5dDyfo",
        "outputId": "ba639975-56a1-420e-c570-60fe9950d15c"
      },
      "source": [
        "'''\r\n",
        "\r\n",
        "X_pred = np.vstack([Age, BV]).T\r\n",
        "print(X_pred)\r\n",
        "\r\n",
        "with model:\r\n",
        "  f_pred = gp.conditional('f_pred', X_pred, pred_noise=False) # predict function\r\n",
        "  pred_samples = pm.sample_posterior_predictive(trace, vars=[f_pred], samples=2500)'''"
      ],
      "execution_count": 7,
      "outputs": [
        {
          "output_type": "execute_result",
          "data": {
            "application/vnd.google.colaboratory.intrinsic+json": {
              "type": "string"
            },
            "text/plain": [
              "\"\\n\\nX_pred = np.vstack([Age, BV]).T\\nprint(X_pred)\\n\\nwith model:\\n  f_pred = gp.conditional('f_pred', X_pred, pred_noise=False) # predict function\\n  pred_samples = pm.sample_posterior_predictive(trace, vars=[f_pred], samples=2500)\""
            ]
          },
          "metadata": {
            "tags": []
          },
          "execution_count": 7
        }
      ]
    },
    {
      "cell_type": "code",
      "metadata": {
        "colab": {
          "base_uri": "https://localhost:8080/",
          "height": 92
        },
        "id": "NAREPLlB3Oxe",
        "outputId": "b677402a-2d62-4f1e-e1e6-4b63cf01616b"
      },
      "source": [
        "'''\r\n",
        "from matplotlib  import cm\r\n",
        "print(pred_samples[\"f_pred\"].shape)\r\n",
        "print(X_pred.shape)\r\n",
        "fig = plt.figure(figsize=(12, 5))\r\n",
        "ax = fig.gca()\r\n",
        "\r\n",
        "from pymc3.gp.util import plot_gp_dist\r\n",
        "\r\n",
        "plot_gp_dist(ax, pred_samples[\"f_pred\"], X_pred[:,0])\r\n",
        "\r\n",
        "## plotting the predictions, make a plot of age on x axis b-v on y, plot points and colour by age\r\n",
        "\r\n",
        "ax.scatter(X_pred[:,0], X_pred[:,1], s=300, c=np.mean(pred_samples['f_pred'],axis=0), marker = 'o', cmap = cm.viridis, label='Colour defines the BV')\r\n",
        "ax.scatter(Age, BV, c=np.log(Prot), s=40, cmap = cm.viridis)'''"
      ],
      "execution_count": 8,
      "outputs": [
        {
          "output_type": "execute_result",
          "data": {
            "application/vnd.google.colaboratory.intrinsic+json": {
              "type": "string"
            },
            "text/plain": [
              "'\\nfrom matplotlib  import cm\\nprint(pred_samples[\"f_pred\"].shape)\\nprint(X_pred.shape)\\nfig = plt.figure(figsize=(12, 5))\\nax = fig.gca()\\n\\nfrom pymc3.gp.util import plot_gp_dist\\n\\nplot_gp_dist(ax, pred_samples[\"f_pred\"], X_pred[:,0])\\n\\n## plotting the predictions, make a plot of age on x axis b-v on y, plot points and colour by age\\n\\nax.scatter(X_pred[:,0], X_pred[:,1], s=300, c=np.mean(pred_samples[\\'f_pred\\'],axis=0), marker = \\'o\\', cmap = cm.viridis, label=\\'Colour defines the BV\\')\\nax.scatter(Age, BV, c=np.log(Prot), s=40, cmap = cm.viridis)'"
            ]
          },
          "metadata": {
            "tags": []
          },
          "execution_count": 8
        }
      ]
    },
    {
      "cell_type": "code",
      "metadata": {
        "id": "nhPLsuB4fFCs",
        "colab": {
          "base_uri": "https://localhost:8080/",
          "height": 1000
        },
        "outputId": "5c30b12f-b933-40b1-88ee-ca8835b6c43b"
      },
      "source": [
        "mu, var = gp.predict(X, point=mp, diag=True, pred_noise=False)\n",
        "sd = np.sqrt(var)\n",
        "\n",
        "mean = mp['A_'] *Age**c * (BV - h)**mp['f_']\n",
        "\n",
        "ydata = Prot\n",
        "num_gen = len(Mass)\n",
        "numElems = len(mu)\n",
        "\n",
        "idx = np.round(np.linspace(0, len(mean) - 1, numElems)).astype(int)\n",
        "# Picks equal spaced elements from (longer) prediction array so that its shape of data\n",
        "\n",
        "\n",
        "mu_test = mean[idx] + mu\n",
        "sd_test = sd\n",
        "\n",
        "\n",
        "vals = np.sort([mu_test, sd_test], axis=1)\n",
        "\n",
        "# sorts them together :) \n",
        "\n",
        "fig = plt.figure(figsize=(14, 10))\n",
        "\n",
        "plt.plot([0, max(Prot)], [0, max(Prot)], linestyle='--', label='y=x', color='y')\n",
        "plt.errorbar(np.sort(Prot_short), vals[0,:], yerr=vals[1,:], fmt='o', label=r'$\\sigma$', color='b', alpha=0.4)\n",
        "\n",
        "\n",
        "plt.xlabel(\"Data\")\n",
        "plt.ylabel(\"Predictions\")\n",
        "plt.title(\"Predicted values vs Data values\")\n",
        "\n",
        "txt=\"Figure 1: This plot shows the difference in predictions of rotational period compared to the true data. If there was 0 difference, this would lie exactly on y=x.\"\n",
        "plt.figtext(0.5, 0.01, txt, wrap=True, horizontalalignment='center', fontsize=12)\n",
        "\n",
        "plt.legend()\n",
        "plt.show()\n",
        "\n",
        "Z = (np.sort(Prot_short) - vals[0, :])/(vals[1, :])\n",
        "\n",
        "\n",
        "\n",
        "x = np.linspace(-5,5, 1000)\n",
        "f = 1/np.sqrt(2 * np.pi) * np.exp(-1/2 * x**2) #N(0,1) to compare with Z \n",
        "\n",
        "plt.hist(Z, density=True, label='Residual', color='y')\n",
        " \n",
        "plt.plot(x,f, label='N(0,1)', color='k', linestyle='--')\n",
        "txt=\"Figure 2: The residuals of the difference betwen the predictions and the true data, normalised by the standard devition. If this was perfect, it would be a fit a N(0,1) distribution\"\n",
        "plt.figtext(0.5, 0.01, txt, wrap=True, horizontalalignment='center', fontsize=12)\n",
        "\n",
        "plt.legend()\n",
        "plt.show()\n"
      ],
      "execution_count": 9,
      "outputs": [
        {
          "output_type": "stream",
          "text": [
            "/usr/local/lib/python3.6/dist-packages/pymc3/gp/cov.py:97: UserWarning: Only 2 column(s) out of Subtensor{int64}.0 are being used to compute the covariance function. If this is not intended, increase 'input_dim' parameter to the number of columns to use. Ignore otherwise.\n",
            "  UserWarning,\n",
            "WARNING (theano.tensor.blas): We did not find a dynamic library in the library_dir of the library we use for blas. If you use ATLAS, make sure to compile it with dynamics library.\n"
          ],
          "name": "stderr"
        },
        {
          "output_type": "display_data",
          "data": {
            "image/png": "[encoded data removed]",
            "text/plain": [
              "<Figure size 1008x720 with 1 Axes>"
            ]
          },
          "metadata": {
            "tags": [],
            "needs_background": "light"
          }
        },
        {
          "output_type": "display_data",
          "data": {
            "image/png": "[encoded data removed]",
            "text/plain": [
              "<Figure size 432x288 with 1 Axes>"
            ]
          },
          "metadata": {
            "tags": [],
            "needs_background": "light"
          }
        }
      ]
    },
    {
      "cell_type": "markdown",
      "metadata": {
        "id": "iCEjdFI5Lxb6"
      },
      "source": [
        "These two plots are evidence that this model does fit the data very well. We can use the parameters and hyper parameters gathered here for future GP implementations on true data. "
      ]
    },
    {
      "cell_type": "code",
      "metadata": {
        "id": "OHY4QchDKU32",
        "colab": {
          "base_uri": "https://localhost:8080/",
          "height": 130
        },
        "outputId": "bb9bfdac-2ae4-47eb-98e3-a983ecad2f45"
      },
      "source": [
        "'''n = 200  # The number of data points\r\n",
        "X = np.linspace(0, 10, n)[:, None]  # The inputs to the GP must be arranged as a column vector\r\n",
        "\r\n",
        "# Define the true covariance function and its parameters\r\n",
        "ℓ_true = 1.0\r\n",
        "η_true = 3.0\r\n",
        "cov_func = η_true ** 2 * pm.gp.cov.Matern52(1, ℓ_true)\r\n",
        "\r\n",
        "# A mean function that is zero everywhere\r\n",
        "mean_func = pm.gp.mean.Zero()\r\n",
        "\r\n",
        "# The latent function values are one sample from a multivariate normal\r\n",
        "# Note that we have to call `eval()` because PyMC3 built on top of Theano\r\n",
        "f_true = np.random.multivariate_normal(\r\n",
        "    mean_func(X).eval(), cov_func(X).eval() + 1e-8 * np.eye(n), 1\r\n",
        ").flatten()\r\n",
        "\r\n",
        "# The observed data is the latent function plus a small amount of T distributed noise\r\n",
        "# The standard deviation of the noise is `sigma`, and the degrees of freedom is `nu`\r\n",
        "σ_true = 2.0\r\n",
        "ν_true = 3.0\r\n",
        "y = f_true + σ_true * np.random.standard_t(ν_true, size=n)\r\n",
        "\r\n",
        "## Plot the data and the unobserved latent function\r\n",
        "fig = plt.figure(figsize=(12, 5))\r\n",
        "ax = fig.gca()\r\n",
        "ax.plot(X, f_true, \"dodgerblue\", lw=3, label=\"True generating function 'f'\")\r\n",
        "ax.plot(X, y, \"ok\", ms=3, label=\"Observed data\")\r\n",
        "ax.set_xlabel(\"X\")\r\n",
        "ax.set_ylabel(\"y\")\r\n",
        "plt.legend();\r\n",
        "\r\n",
        "'''"
      ],
      "execution_count": 10,
      "outputs": [
        {
          "output_type": "execute_result",
          "data": {
            "application/vnd.google.colaboratory.intrinsic+json": {
              "type": "string"
            },
            "text/plain": [
              "'n = 200  # The number of data points\\nX = np.linspace(0, 10, n)[:, None]  # The inputs to the GP must be arranged as a column vector\\n\\n# Define the true covariance function and its parameters\\nℓ_true = 1.0\\nη_true = 3.0\\ncov_func = η_true ** 2 * pm.gp.cov.Matern52(1, ℓ_true)\\n\\n# A mean function that is zero everywhere\\nmean_func = pm.gp.mean.Zero()\\n\\n# The latent function values are one sample from a multivariate normal\\n# Note that we have to call `eval()` because PyMC3 built on top of Theano\\nf_true = np.random.multivariate_normal(\\n    mean_func(X).eval(), cov_func(X).eval() + 1e-8 * np.eye(n), 1\\n).flatten()\\n\\n# The observed data is the latent function plus a small amount of T distributed noise\\n# The standard deviation of the noise is `sigma`, and the degrees of freedom is `nu`\\nσ_true = 2.0\\nν_true = 3.0\\ny = f_true + σ_true * np.random.standard_t(ν_true, size=n)\\n\\n## Plot the data and the unobserved latent function\\nfig = plt.figure(figsize=(12, 5))\\nax = fig.gca()\\nax.plot(X, f_true, \"dodgerblue\", lw=3, label=\"True generating function \\'f\\'\")\\nax.plot(X, y, \"ok\", ms=3, label=\"Observed data\")\\nax.set_xlabel(\"X\")\\nax.set_ylabel(\"y\")\\nplt.legend();\\n\\n'"
            ]
          },
          "metadata": {
            "tags": []
          },
          "execution_count": 10
        }
      ]
    },
    {
      "cell_type": "code",
      "metadata": {
        "id": "hgWTIIy7Peas",
        "colab": {
          "base_uri": "https://localhost:8080/",
          "height": 73
        },
        "outputId": "992465e6-889e-4983-a6da-0bfa634b36e7"
      },
      "source": [
        "'''with pm.Model() as model:\r\n",
        "    ℓ = pm.Gamma(\"ℓ\", alpha=2, beta=1)\r\n",
        "    η = pm.HalfCauchy(\"η\", beta=1)\r\n",
        "\r\n",
        "    cov = η ** 2 * pm.gp.cov.Matern52(1, ℓ)\r\n",
        "    gp = pm.gp.Latent(cov_func=cov)\r\n",
        "\r\n",
        "    f = gp.prior(\"f\", X=X)\r\n",
        "\r\n",
        "    σ = pm.HalfCauchy(\"σ\", beta=5)\r\n",
        "    ν = pm.Gamma(\"ν\", alpha=2, beta=0.1)\r\n",
        "    y_ = pm.StudentT(\"y\", mu=f, lam=1.0 / σ, nu=ν, observed=y)\r\n",
        "\r\n",
        "    trace = pm.sample(1000, chains=2, cores=1, return_inferencedata=True)\r\n",
        "\r\n",
        "'''"
      ],
      "execution_count": 11,
      "outputs": [
        {
          "output_type": "execute_result",
          "data": {
            "application/vnd.google.colaboratory.intrinsic+json": {
              "type": "string"
            },
            "text/plain": [
              "'with pm.Model() as model:\\n    ℓ = pm.Gamma(\"ℓ\", alpha=2, beta=1)\\n    η = pm.HalfCauchy(\"η\", beta=1)\\n\\n    cov = η ** 2 * pm.gp.cov.Matern52(1, ℓ)\\n    gp = pm.gp.Latent(cov_func=cov)\\n\\n    f = gp.prior(\"f\", X=X)\\n\\n    σ = pm.HalfCauchy(\"σ\", beta=5)\\n    ν = pm.Gamma(\"ν\", alpha=2, beta=0.1)\\n    y_ = pm.StudentT(\"y\", mu=f, lam=1.0 / σ, nu=ν, observed=y)\\n\\n    trace = pm.sample(1000, chains=2, cores=1, return_inferencedata=True)\\n\\n'"
            ]
          },
          "metadata": {
            "tags": []
          },
          "execution_count": 11
        }
      ]
    },
    {
      "cell_type": "code",
      "metadata": {
        "id": "2YFPpdIWPQVg",
        "colab": {
          "base_uri": "https://localhost:8080/",
          "height": 55
        },
        "outputId": "6186d7d0-7604-46f0-f55b-89bce4a0de12"
      },
      "source": [
        "# 200 new values from x=0 to x=15\r\n",
        "'''\r\n",
        "n_new = 200\r\n",
        "X_new = np.linspace(0, 15, n_new)[:, None]\r\n",
        "\r\n",
        "# add the GP conditional to the model, given the new X values\r\n",
        "with model:\r\n",
        "    f_pred = gp.conditional(\"f_pred\", X_new)\r\n",
        "\r\n",
        "# Sample from the GP conditional distribution\r\n",
        "with model:\r\n",
        "    pred_samples = pm.sample_posterior_predictive(trace.posterior, vars=[f_pred])'''"
      ],
      "execution_count": 12,
      "outputs": [
        {
          "output_type": "execute_result",
          "data": {
            "application/vnd.google.colaboratory.intrinsic+json": {
              "type": "string"
            },
            "text/plain": [
              "'\\nn_new = 200\\nX_new = np.linspace(0, 15, n_new)[:, None]\\n\\n# add the GP conditional to the model, given the new X values\\nwith model:\\n    f_pred = gp.conditional(\"f_pred\", X_new)\\n\\n# Sample from the GP conditional distribution\\nwith model:\\n    pred_samples = pm.sample_posterior_predictive(trace.posterior, vars=[f_pred])'"
            ]
          },
          "metadata": {
            "tags": []
          },
          "execution_count": 12
        }
      ]
    },
    {
      "cell_type": "code",
      "metadata": {
        "id": "kkyeAm4xOwxA",
        "colab": {
          "base_uri": "https://localhost:8080/",
          "height": 72
        },
        "outputId": "30db9b9f-3caa-4235-f53a-80e033784fa0"
      },
      "source": [
        "'''fig = plt.figure(figsize=(12, 5))\r\n",
        "ax = fig.gca()\r\n",
        "plot_gp_dist(ax, pred_samples[\"f_pred\"], X_new)\r\n",
        "\r\n",
        "ax.plot(X, f_true, \"dodgerblue\", lw=3, label=\"True generating function 'f'\")\r\n",
        "ax.plot(X, y, \"ok\", ms=3, label=\"Observed data\")\r\n",
        "\r\n",
        "ax.set_xlabel(\"X\")\r\n",
        "ax.set_ylabel(\"True f(x)\")\r\n",
        "ax.set_title(\"Conditional distribution of f_*, given f\")\r\n",
        "plt.legend();'''"
      ],
      "execution_count": 13,
      "outputs": [
        {
          "output_type": "execute_result",
          "data": {
            "application/vnd.google.colaboratory.intrinsic+json": {
              "type": "string"
            },
            "text/plain": [
              "'fig = plt.figure(figsize=(12, 5))\\nax = fig.gca()\\nplot_gp_dist(ax, pred_samples[\"f_pred\"], X_new)\\n\\nax.plot(X, f_true, \"dodgerblue\", lw=3, label=\"True generating function \\'f\\'\")\\nax.plot(X, y, \"ok\", ms=3, label=\"Observed data\")\\n\\nax.set_xlabel(\"X\")\\nax.set_ylabel(\"True f(x)\")\\nax.set_title(\"Conditional distribution of f_*, given f\")\\nplt.legend();'"
            ]
          },
          "metadata": {
            "tags": []
          },
          "execution_count": 13
        }
      ]
    },
    {
      "cell_type": "markdown",
      "metadata": {
        "id": "9O4Ye8PYyfMF"
      },
      "source": [
        "Second fast component t the gp when we dont have B-V"
      ]
    }
  ]
}
