{
  "nbformat": 4,
  "nbformat_minor": 0,
  "metadata": {
    "colab": {
      "name": "3d fitting.ipynb",
      "provenance": [],
      "collapsed_sections": []
    },
    "kernelspec": {
      "display_name": "Python 3",
      "name": "python3"
    }
  },
  "cells": [
    {
      "cell_type": "markdown",
      "metadata": {
        "id": "w1TXAb4abul0"
      },
      "source": [
        "# To-do list\r\n",
        "##Implement latent variable model <br>\r\n",
        "replace the value of f by f* where f* is drawn from a distrubtion that uses f as the basis for the prior. \r\n",
        "##Add noise to data and try fit \r\n",
        "I need to think of a smater way to add my error, HalfCauchy is just a bit bashful. If we know that there is an error of x, y, z on measurements a, b, c how can this correlate to the noise in the GP function.<br>\r\n",
        "I should also take into account that the error is gonna be like +/- 10% and therefore should use this to inform my noise function.\r\n",
        "## Take out mass dependance?\r\n",
        "## Metalicty\r\n",
        "# To look into list\r\n",
        "Hierarchical model <br>\r\n",
        "Varitational inference <br>\r\n",
        "Different samplers - HMC <br>\r\n",
        "\r\n",
        "\r\n",
        "\r\n",
        "# rotaation bv and age observers GC\r\n",
        "# period age mass and metalictty fundemental GC\r\n"
      ]
    },
    {
      "cell_type": "code",
      "metadata": {
        "colab": {
          "base_uri": "https://localhost:8080/"
        },
        "id": "lxk9n77qI_wX",
        "outputId": "7df05258-a055-48b8-d55d-3d334208113b"
      },
      "source": [
        "!pip install pymc3 --upgrade\n",
        "!pip install PyAstronomy"
      ],
      "execution_count": 1,
      "outputs": [
        {
          "output_type": "stream",
          "text": [
            "Requirement already up-to-date: pymc3 in /usr/local/lib/python3.6/dist-packages (3.10.0)\n",
            "Requirement already satisfied, skipping upgrade: scipy>=0.18.1 in /usr/local/lib/python3.6/dist-packages (from pymc3) (1.4.1)\n",
            "Requirement already satisfied, skipping upgrade: pandas>=0.18.0 in /usr/local/lib/python3.6/dist-packages (from pymc3) (1.1.5)\n",
            "Requirement already satisfied, skipping upgrade: arviz>=0.9.0 in /usr/local/lib/python3.6/dist-packages (from pymc3) (0.11.1)\n",
            "Requirement already satisfied, skipping upgrade: theano-pymc==1.0.11 in /usr/local/lib/python3.6/dist-packages (from pymc3) (1.0.11)\n",
            "Requirement already satisfied, skipping upgrade: dill in /usr/local/lib/python3.6/dist-packages (from pymc3) (0.3.3)\n",
            "Requirement already satisfied, skipping upgrade: numpy>=1.13.0 in /usr/local/lib/python3.6/dist-packages (from pymc3) (1.19.5)\n",
            "Requirement already satisfied, skipping upgrade: fastprogress>=0.2.0 in /usr/local/lib/python3.6/dist-packages (from pymc3) (1.0.0)\n",
            "Requirement already satisfied, skipping upgrade: patsy>=0.5.1 in /usr/local/lib/python3.6/dist-packages (from pymc3) (0.5.1)\n",
            "Requirement already satisfied, skipping upgrade: typing-extensions>=3.7.4 in /usr/local/lib/python3.6/dist-packages (from pymc3) (3.7.4.3)\n",
            "Requirement already satisfied, skipping upgrade: dataclasses; python_version < \"3.7\" in /usr/local/lib/python3.6/dist-packages (from pymc3) (0.8)\n",
            "Requirement already satisfied, skipping upgrade: contextvars; python_version < \"3.7\" in /usr/local/lib/python3.6/dist-packages (from pymc3) (2.4)\n",
            "Requirement already satisfied, skipping upgrade: pytz>=2017.2 in /usr/local/lib/python3.6/dist-packages (from pandas>=0.18.0->pymc3) (2018.9)\n",
            "Requirement already satisfied, skipping upgrade: python-dateutil>=2.7.3 in /usr/local/lib/python3.6/dist-packages (from pandas>=0.18.0->pymc3) (2.8.1)\n",
            "Requirement already satisfied, skipping upgrade: packaging in /usr/local/lib/python3.6/dist-packages (from arviz>=0.9.0->pymc3) (20.9)\n",
            "Requirement already satisfied, skipping upgrade: setuptools>=38.4 in /usr/local/lib/python3.6/dist-packages (from arviz>=0.9.0->pymc3) (53.0.0)\n",
            "Requirement already satisfied, skipping upgrade: netcdf4 in /usr/local/lib/python3.6/dist-packages (from arviz>=0.9.0->pymc3) (1.5.6)\n",
            "Requirement already satisfied, skipping upgrade: xarray>=0.16.1 in /usr/local/lib/python3.6/dist-packages (from arviz>=0.9.0->pymc3) (0.16.2)\n",
            "Requirement already satisfied, skipping upgrade: matplotlib>=3.0 in /usr/local/lib/python3.6/dist-packages (from arviz>=0.9.0->pymc3) (3.2.2)\n",
            "Requirement already satisfied, skipping upgrade: six in /usr/local/lib/python3.6/dist-packages (from patsy>=0.5.1->pymc3) (1.15.0)\n",
            "Requirement already satisfied, skipping upgrade: immutables>=0.9 in /usr/local/lib/python3.6/dist-packages (from contextvars; python_version < \"3.7\"->pymc3) (0.15)\n",
            "Requirement already satisfied, skipping upgrade: pyparsing>=2.0.2 in /usr/local/lib/python3.6/dist-packages (from packaging->arviz>=0.9.0->pymc3) (2.4.7)\n",
            "Requirement already satisfied, skipping upgrade: cftime in /usr/local/lib/python3.6/dist-packages (from netcdf4->arviz>=0.9.0->pymc3) (1.4.1)\n",
            "Requirement already satisfied, skipping upgrade: cycler>=0.10 in /usr/local/lib/python3.6/dist-packages (from matplotlib>=3.0->arviz>=0.9.0->pymc3) (0.10.0)\n",
            "Requirement already satisfied, skipping upgrade: kiwisolver>=1.0.1 in /usr/local/lib/python3.6/dist-packages (from matplotlib>=3.0->arviz>=0.9.0->pymc3) (1.3.1)\n",
            "Requirement already satisfied: PyAstronomy in /usr/local/lib/python3.6/dist-packages (0.15.2)\n",
            "Requirement already satisfied: numpy in /usr/local/lib/python3.6/dist-packages (from PyAstronomy) (1.19.5)\n",
            "Requirement already satisfied: six in /usr/local/lib/python3.6/dist-packages (from PyAstronomy) (1.15.0)\n"
          ],
          "name": "stdout"
        }
      ]
    },
    {
      "cell_type": "code",
      "metadata": {
        "colab": {
          "base_uri": "https://localhost:8080/"
        },
        "id": "-C8F1X6SkABJ",
        "outputId": "ff87cfe4-dc79-4a44-c084-738381936381"
      },
      "source": [
        "import matplotlib.pyplot as plt\n",
        "import numpy as np\n",
        "import scipy\n",
        "import pymc3 as pm\n",
        "import theano as tt\n",
        " \n",
        "from mpl_toolkits.mplot3d import Axes3D\n",
        "from matplotlib  import cm\n",
        "from PyAstronomy import pyasl\n",
        "\n",
        "from google.colab import drive\n",
        "drive.mount('/content/drive')\n",
        "\n",
        "print(f\"Running on PyMC3 v{pm.__version__}\")"
      ],
      "execution_count": 2,
      "outputs": [
        {
          "output_type": "stream",
          "text": [
            "Drive already mounted at /content/drive; to attempt to forcibly remount, call drive.mount(\"/content/drive\", force_remount=True).\n",
            "Running on PyMC3 v3.10.0\n"
          ],
          "name": "stdout"
        }
      ]
    },
    {
      "cell_type": "code",
      "metadata": {
        "colab": {
          "base_uri": "https://localhost:8080/",
          "height": 284
        },
        "id": "Klmm5z_zkS5v",
        "outputId": "fa8c2715-93e1-429e-c1f6-ee7d85aa0380"
      },
      "source": [
        "##### OPTIONS #####\n",
        "\n",
        "opt_params = 0   # if 1 use predetermined values\n",
        "\n",
        "errorbars = 0   # plot error bars on surface plot \n",
        "smp_rt = 5     # every nth point of true data\n",
        "num_gen = 400 # given n will produce n x n points of predictions\n",
        "\n",
        "\n",
        "data = np.genfromtxt('/content/drive/My Drive/data/data2.csv', delimiter=',', skip_header=1)\n",
        "\n",
        "Teff = data[:,1][0::smp_rt] # Teff\n",
        "Prot = data[:, 2][0::smp_rt]  # Prot\n",
        "Age = data[:, 3][0::smp_rt]  # Age \n",
        "Mass = data[:, 4][0::smp_rt]   # mass\n",
        "b = pyasl.BallesterosBV_T()\n",
        "BV =  b.t2bv(np.array(Teff))\n",
        "#data 1 and data 2 have differnet columns! \n",
        "\n",
        "## Here is where I am adding some noise to the data roughly 5% for mass prot and Teff, 10% for Age\n",
        "\n",
        "data_noise = True\n",
        "n_age = 0.2\n",
        "n_oth = 0.05\n",
        "\n",
        "if data_noise:\n",
        "\n",
        "\n",
        "  Age_err = np.random.uniform(-1,1,len(Age))*Age*n_age\n",
        "  BV_err = np.random.uniform(-1,1,len(Age))*BV*n_oth\n",
        "\n",
        "  Prot_err = np.random.uniform(-1,1,len(Age))*Prot*n_oth\n",
        "  Mass_err = np.random.rand(len(Mass)) * Mass*n_oth\n",
        "\n",
        "  Age  += Age_err\n",
        "  BV += BV_err\n",
        "  Prot += Prot_err \n",
        "  Mass += Mass_err\n",
        "\n",
        "plt.errorbar(Prot, BV, yerr=BV_err, xerr=Prot_err, fmt='o')\n",
        "#plt.plot(BV)\n"
      ],
      "execution_count": 3,
      "outputs": [
        {
          "output_type": "execute_result",
          "data": {
            "text/plain": [
              "<ErrorbarContainer object of 3 artists>"
            ]
          },
          "metadata": {
            "tags": []
          },
          "execution_count": 3
        },
        {
          "output_type": "display_data",
          "data": {
            "image/png": "[encoded data removed]",
            "text/plain": [
              "<Figure size 432x288 with 1 Axes>"
            ]
          },
          "metadata": {
            "tags": [],
            "needs_background": "light"
          }
        }
      ]
    },
    {
      "cell_type": "code",
      "metadata": {
        "id": "SnWJG1DSGHjU"
      },
      "source": [
        "def mean_fn(Age, BV, A, c, h, f):\r\n",
        "  return A * Age**c  * (BV-h)**f\r\n"
      ],
      "execution_count": 4,
      "outputs": []
    },
    {
      "cell_type": "markdown",
      "metadata": {
        "id": "KMEMZHg7dr1d"
      },
      "source": [
        "https://iopscience.iop.org/article/10.1088/0004-637X/695/1/679/pdf\n",
        "In this article a form is given to determine P from Bv and age that is of a slightly sifferent form to what I am currently using.\n",
        "$P(t, B-V) = t^{0.52} g(B-V -h)^f$ <br>\n",
        "where $g=0.77, h=0.4, f = 0.6$. I will now construct another GP using this as the mean function and see how it goes.\n",
        "\n",
        "Im gonna sort of bash the BV dependance onto the end of my current mass, age mean function and see how it goes B). The new mean function will look like $P(t,m,(B-V)) = At^cm^d((B-V)-h)^f$. Where I a taking d from the previous GP, here A is going to be allowed to vary and the starting value will be $A^{\\star}g$, where $A^{\\star}$ is the A from before.  \n",
        "\n",
        "This has resulted in considerably better results.\n"
      ]
    },
    {
      "cell_type": "code",
      "metadata": {
        "id": "Q1wrxRqcfbdB",
        "colab": {
          "base_uri": "https://localhost:8080/"
        },
        "outputId": "bd584d89-14bd-4640-c0a9-210b9bf8e54f"
      },
      "source": [
        "#### book ####\n",
        "g = 0.77\n",
        "h = 0.4 \n",
        "f = 0.6 \n",
        "c=0.52 \n",
        "\n",
        "#determined \n",
        "\n",
        "#A = 10\n",
        "A = 0.77\n",
        "\n",
        "K_b = b.bv2T(np.array(6200)) #  Kraft break\n",
        "\n",
        "#limit = (np.where(BV<K_b))\n",
        "\n",
        "\n",
        "limit = np.where((Prot>0))\n",
        "## big test time \n",
        "\n",
        "\n",
        "BV_short = BV[limit]\n",
        "Prot_short = Prot[limit]\n",
        "Age_short = Age[limit]\n",
        "\n",
        "\n",
        "X = np.array([Age_short, BV_short]).T \n",
        "\n",
        "\n",
        "\n",
        "with pm.Model() as model:\n",
        "    c_ = pm.Normal('c_', c, c*0.0007)\n",
        "    f_ = pm.Normal('f_', f, f*0.5)\n",
        "    A_ = pm.Normal('A_', A*g, A*0.3)\n",
        "  \n",
        "   # Age_true = pm.Uniform(\"Age_true\", 0, max(Age_short), shape=Age_short.shape)\n",
        "    Age_true = pm.Normal('Age_true', 5, 5, shape=Age_short.shape)\n",
        "    Age_obs = pm.Normal(\"Age_obs\", Age_true, Age_short*n_age, observed=Age_short)\n",
        "\n",
        "    BV_true = pm.Lognormal(\"BV_true\", 1, 1, shape=BV_short.shape )\n",
        "    #BV_true = pm.Uniform(\"BV_True\", 0.1, 2, shape=BV_short.shape)\n",
        "    BV_obs = pm.Normal(\"BV_obs\", BV_true, BV_short*n_oth, observed=BV_short)\n",
        "\n",
        "    mean = A_* Age_true**c_    * (BV_true - h)**f_\n",
        "    resid = Prot_short - mean\n",
        "\n",
        "    l1 = pm.Lognormal('l1', mu=np.log(20), sigma=0.2)  # 1\n",
        "    l2 = pm.Lognormal('l2', mu=np.log(5), sigma=0.05)\n",
        "\n",
        "\n",
        "    sf1 = pm.Lognormal(\"sf1\", mu=np.log(15), sigma=0.05)\n",
        "   # sf2 = pm.Lognormal(\"sf2\", mu=np.log(35), sigma=0.5)\n",
        "\n",
        "    K1 = pm.gp.cov.ExpQuad(2, [l1,l2]) * sf1**2\n",
        "   # K2 = pm.gp.cov.ExpQuad(2, l2) * sf2**2\n",
        "   \n",
        "\n",
        "    K = K1 #* K2\n",
        "    \n",
        "    gp = pm.gp.Marginal(cov_func=K)\n",
        "    x = tt.tensor.stack([Age_true, BV_true])\n",
        "\n",
        "    obs = gp.marginal_likelihood(\"obs\", X=x.T , y=resid, noise=1)\n",
        "# make noise a normal distribution centered at 0 with bound between -1 and 1 "
      ],
      "execution_count": 5,
      "outputs": [
        {
          "output_type": "stream",
          "text": [
            "/usr/local/lib/python3.6/dist-packages/pymc3/gp/cov.py:97: UserWarning: Only 2 column(s) out of Subtensor{int64}.0 are being used to compute the covariance function. If this is not intended, increase 'input_dim' parameter to the number of columns to use. Ignore otherwise.\n",
            "  UserWarning,\n"
          ],
          "name": "stderr"
        }
      ]
    },
    {
      "cell_type": "code",
      "metadata": {
        "colab": {
          "base_uri": "https://localhost:8080/",
          "height": 648
        },
        "id": "ABdzewdyFuuJ",
        "outputId": "f9b1031a-0344-4f65-f141-3c10f1fa7264"
      },
      "source": [
        "\r\n",
        "with model:\r\n",
        "  trace = pm.sample(2500, tune=1000, cores=2)\r\n",
        "\r\n",
        "\r\n",
        "  pm.traceplot(trace)"
      ],
      "execution_count": 6,
      "outputs": [
        {
          "output_type": "stream",
          "text": [
            "WARNING (theano.tensor.blas): We did not find a dynamic library in the library_dir of the library we use for blas. If you use ATLAS, make sure to compile it with dynamics library.\n",
            "/usr/local/lib/python3.6/dist-packages/pymc3/sampling.py:468: FutureWarning: In an upcoming release, pm.sample will return an `arviz.InferenceData` object instead of a `MultiTrace` by default. You can pass return_inferencedata=True or return_inferencedata=False to be safe and silence this warning.\n",
            "  FutureWarning,\n",
            "Auto-assigning NUTS sampler...\n",
            "Initializing NUTS using jitter+adapt_diag...\n",
            "Multiprocess sampling (2 chains in 2 jobs)\n",
            "NUTS: [sf1, l2, l1, BV_true, Age_true, A_, f_, c_]\n"
          ],
          "name": "stderr"
        },
        {
          "output_type": "display_data",
          "data": {
            "text/html": [
              "\n",
              "    <div>\n",
              "        <style>\n",
              "            /* Turns off some styling */\n",
              "            progress {\n",
              "                /* gets rid of default border in Firefox and Opera. */\n",
              "                border: none;\n",
              "                /* Needs to be in here for Safari polyfill so background images work as expected. */\n",
              "                background-size: auto;\n",
              "            }\n",
              "            .progress-bar-interrupted, .progress-bar-interrupted::-webkit-progress-bar {\n",
              "                background: #F44336;\n",
              "            }\n",
              "        </style>\n",
              "      <progress value='185' class='' max='7000' style='width:300px; height:20px; vertical-align: middle;'></progress>\n",
              "      2.64% [185/7000 01:20<49:28 Sampling 2 chains, 0 divergences]\n",
              "    </div>\n",
              "    "
            ],
            "text/plain": [
              "<IPython.core.display.HTML object>"
            ]
          },
          "metadata": {
            "tags": []
          }
        },
        {
          "output_type": "error",
          "ename": "ValueError",
          "evalue": "ignored",
          "traceback": [
            "\u001b[0;31m---------------------------------------------------------------------------\u001b[0m",
            "\u001b[0;31mKeyboardInterrupt\u001b[0m                         Traceback (most recent call last)",
            "\u001b[0;32m/usr/local/lib/python3.6/dist-packages/pymc3/sampling.py\u001b[0m in \u001b[0;36m_mp_sample\u001b[0;34m(draws, tune, step, chains, cores, chain, random_seed, start, progressbar, trace, model, callback, discard_tuned_samples, mp_ctx, pickle_backend, **kwargs)\u001b[0m\n\u001b[1;32m   1475\u001b[0m             \u001b[0;32mwith\u001b[0m \u001b[0msampler\u001b[0m\u001b[0;34m:\u001b[0m\u001b[0;34m\u001b[0m\u001b[0;34m\u001b[0m\u001b[0m\n\u001b[0;32m-> 1476\u001b[0;31m                 \u001b[0;32mfor\u001b[0m \u001b[0mdraw\u001b[0m \u001b[0;32min\u001b[0m \u001b[0msampler\u001b[0m\u001b[0;34m:\u001b[0m\u001b[0;34m\u001b[0m\u001b[0;34m\u001b[0m\u001b[0m\n\u001b[0m\u001b[1;32m   1477\u001b[0m                     \u001b[0mtrace\u001b[0m \u001b[0;34m=\u001b[0m \u001b[0mtraces\u001b[0m\u001b[0;34m[\u001b[0m\u001b[0mdraw\u001b[0m\u001b[0;34m.\u001b[0m\u001b[0mchain\u001b[0m \u001b[0;34m-\u001b[0m \u001b[0mchain\u001b[0m\u001b[0;34m]\u001b[0m\u001b[0;34m\u001b[0m\u001b[0;34m\u001b[0m\u001b[0m\n",
            "\u001b[0;32m/usr/local/lib/python3.6/dist-packages/pymc3/parallel_sampling.py\u001b[0m in \u001b[0;36m__iter__\u001b[0;34m(self)\u001b[0m\n\u001b[1;32m    479\u001b[0m         \u001b[0;32mwhile\u001b[0m \u001b[0mself\u001b[0m\u001b[0;34m.\u001b[0m\u001b[0m_active\u001b[0m\u001b[0;34m:\u001b[0m\u001b[0;34m\u001b[0m\u001b[0;34m\u001b[0m\u001b[0m\n\u001b[0;32m--> 480\u001b[0;31m             \u001b[0mdraw\u001b[0m \u001b[0;34m=\u001b[0m \u001b[0mProcessAdapter\u001b[0m\u001b[0;34m.\u001b[0m\u001b[0mrecv_draw\u001b[0m\u001b[0;34m(\u001b[0m\u001b[0mself\u001b[0m\u001b[0;34m.\u001b[0m\u001b[0m_active\u001b[0m\u001b[0;34m)\u001b[0m\u001b[0;34m\u001b[0m\u001b[0;34m\u001b[0m\u001b[0m\n\u001b[0m\u001b[1;32m    481\u001b[0m             \u001b[0mproc\u001b[0m\u001b[0;34m,\u001b[0m \u001b[0mis_last\u001b[0m\u001b[0;34m,\u001b[0m \u001b[0mdraw\u001b[0m\u001b[0;34m,\u001b[0m \u001b[0mtuning\u001b[0m\u001b[0;34m,\u001b[0m \u001b[0mstats\u001b[0m\u001b[0;34m,\u001b[0m \u001b[0mwarns\u001b[0m \u001b[0;34m=\u001b[0m \u001b[0mdraw\u001b[0m\u001b[0;34m\u001b[0m\u001b[0;34m\u001b[0m\u001b[0m\n",
            "\u001b[0;32m/usr/local/lib/python3.6/dist-packages/pymc3/parallel_sampling.py\u001b[0m in \u001b[0;36mrecv_draw\u001b[0;34m(processes, timeout)\u001b[0m\n\u001b[1;32m    346\u001b[0m         \u001b[0mpipes\u001b[0m \u001b[0;34m=\u001b[0m \u001b[0;34m[\u001b[0m\u001b[0mproc\u001b[0m\u001b[0;34m.\u001b[0m\u001b[0m_msg_pipe\u001b[0m \u001b[0;32mfor\u001b[0m \u001b[0mproc\u001b[0m \u001b[0;32min\u001b[0m \u001b[0mprocesses\u001b[0m\u001b[0;34m]\u001b[0m\u001b[0;34m\u001b[0m\u001b[0;34m\u001b[0m\u001b[0m\n\u001b[0;32m--> 347\u001b[0;31m         \u001b[0mready\u001b[0m \u001b[0;34m=\u001b[0m \u001b[0mmultiprocessing\u001b[0m\u001b[0;34m.\u001b[0m\u001b[0mconnection\u001b[0m\u001b[0;34m.\u001b[0m\u001b[0mwait\u001b[0m\u001b[0;34m(\u001b[0m\u001b[0mpipes\u001b[0m\u001b[0;34m)\u001b[0m\u001b[0;34m\u001b[0m\u001b[0;34m\u001b[0m\u001b[0m\n\u001b[0m\u001b[1;32m    348\u001b[0m         \u001b[0;32mif\u001b[0m \u001b[0;32mnot\u001b[0m \u001b[0mready\u001b[0m\u001b[0;34m:\u001b[0m\u001b[0;34m\u001b[0m\u001b[0;34m\u001b[0m\u001b[0m\n",
            "\u001b[0;32m/usr/lib/python3.6/multiprocessing/connection.py\u001b[0m in \u001b[0;36mwait\u001b[0;34m(object_list, timeout)\u001b[0m\n\u001b[1;32m    910\u001b[0m             \u001b[0;32mwhile\u001b[0m \u001b[0;32mTrue\u001b[0m\u001b[0;34m:\u001b[0m\u001b[0;34m\u001b[0m\u001b[0;34m\u001b[0m\u001b[0m\n\u001b[0;32m--> 911\u001b[0;31m                 \u001b[0mready\u001b[0m \u001b[0;34m=\u001b[0m \u001b[0mselector\u001b[0m\u001b[0;34m.\u001b[0m\u001b[0mselect\u001b[0m\u001b[0;34m(\u001b[0m\u001b[0mtimeout\u001b[0m\u001b[0;34m)\u001b[0m\u001b[0;34m\u001b[0m\u001b[0;34m\u001b[0m\u001b[0m\n\u001b[0m\u001b[1;32m    912\u001b[0m                 \u001b[0;32mif\u001b[0m \u001b[0mready\u001b[0m\u001b[0;34m:\u001b[0m\u001b[0;34m\u001b[0m\u001b[0;34m\u001b[0m\u001b[0m\n",
            "\u001b[0;32m/usr/lib/python3.6/selectors.py\u001b[0m in \u001b[0;36mselect\u001b[0;34m(self, timeout)\u001b[0m\n\u001b[1;32m    375\u001b[0m             \u001b[0;32mtry\u001b[0m\u001b[0;34m:\u001b[0m\u001b[0;34m\u001b[0m\u001b[0;34m\u001b[0m\u001b[0m\n\u001b[0;32m--> 376\u001b[0;31m                 \u001b[0mfd_event_list\u001b[0m \u001b[0;34m=\u001b[0m \u001b[0mself\u001b[0m\u001b[0;34m.\u001b[0m\u001b[0m_poll\u001b[0m\u001b[0;34m.\u001b[0m\u001b[0mpoll\u001b[0m\u001b[0;34m(\u001b[0m\u001b[0mtimeout\u001b[0m\u001b[0;34m)\u001b[0m\u001b[0;34m\u001b[0m\u001b[0;34m\u001b[0m\u001b[0m\n\u001b[0m\u001b[1;32m    377\u001b[0m             \u001b[0;32mexcept\u001b[0m \u001b[0mInterruptedError\u001b[0m\u001b[0;34m:\u001b[0m\u001b[0;34m\u001b[0m\u001b[0;34m\u001b[0m\u001b[0m\n",
            "\u001b[0;31mKeyboardInterrupt\u001b[0m: ",
            "\nDuring handling of the above exception, another exception occurred:\n",
            "\u001b[0;31mValueError\u001b[0m                                Traceback (most recent call last)",
            "\u001b[0;32m<ipython-input-6-c7c9ca55b0fd>\u001b[0m in \u001b[0;36m<module>\u001b[0;34m()\u001b[0m\n\u001b[1;32m      1\u001b[0m \u001b[0;34m\u001b[0m\u001b[0m\n\u001b[1;32m      2\u001b[0m \u001b[0;32mwith\u001b[0m \u001b[0mmodel\u001b[0m\u001b[0;34m:\u001b[0m\u001b[0;34m\u001b[0m\u001b[0;34m\u001b[0m\u001b[0m\n\u001b[0;32m----> 3\u001b[0;31m   \u001b[0mtrace\u001b[0m \u001b[0;34m=\u001b[0m \u001b[0mpm\u001b[0m\u001b[0;34m.\u001b[0m\u001b[0msample\u001b[0m\u001b[0;34m(\u001b[0m\u001b[0;36m2500\u001b[0m\u001b[0;34m,\u001b[0m \u001b[0mtune\u001b[0m\u001b[0;34m=\u001b[0m\u001b[0;36m1000\u001b[0m\u001b[0;34m,\u001b[0m \u001b[0mcores\u001b[0m\u001b[0;34m=\u001b[0m\u001b[0;36m2\u001b[0m\u001b[0;34m)\u001b[0m\u001b[0;34m\u001b[0m\u001b[0;34m\u001b[0m\u001b[0m\n\u001b[0m\u001b[1;32m      4\u001b[0m \u001b[0;34m\u001b[0m\u001b[0m\n\u001b[1;32m      5\u001b[0m \u001b[0;34m\u001b[0m\u001b[0m\n",
            "\u001b[0;32m/usr/local/lib/python3.6/dist-packages/pymc3/sampling.py\u001b[0m in \u001b[0;36msample\u001b[0;34m(draws, step, init, n_init, start, trace, chain_idx, chains, cores, tune, progressbar, model, random_seed, discard_tuned_samples, compute_convergence_checks, callback, jitter_max_retries, return_inferencedata, idata_kwargs, mp_ctx, pickle_backend, **kwargs)\u001b[0m\n\u001b[1;32m    555\u001b[0m         \u001b[0m_print_step_hierarchy\u001b[0m\u001b[0;34m(\u001b[0m\u001b[0mstep\u001b[0m\u001b[0;34m)\u001b[0m\u001b[0;34m\u001b[0m\u001b[0;34m\u001b[0m\u001b[0m\n\u001b[1;32m    556\u001b[0m         \u001b[0;32mtry\u001b[0m\u001b[0;34m:\u001b[0m\u001b[0;34m\u001b[0m\u001b[0;34m\u001b[0m\u001b[0m\n\u001b[0;32m--> 557\u001b[0;31m             \u001b[0mtrace\u001b[0m \u001b[0;34m=\u001b[0m \u001b[0m_mp_sample\u001b[0m\u001b[0;34m(\u001b[0m\u001b[0;34m**\u001b[0m\u001b[0msample_args\u001b[0m\u001b[0;34m,\u001b[0m \u001b[0;34m**\u001b[0m\u001b[0mparallel_args\u001b[0m\u001b[0;34m)\u001b[0m\u001b[0;34m\u001b[0m\u001b[0;34m\u001b[0m\u001b[0m\n\u001b[0m\u001b[1;32m    558\u001b[0m         \u001b[0;32mexcept\u001b[0m \u001b[0mpickle\u001b[0m\u001b[0;34m.\u001b[0m\u001b[0mPickleError\u001b[0m\u001b[0;34m:\u001b[0m\u001b[0;34m\u001b[0m\u001b[0;34m\u001b[0m\u001b[0m\n\u001b[1;32m    559\u001b[0m             \u001b[0m_log\u001b[0m\u001b[0;34m.\u001b[0m\u001b[0mwarning\u001b[0m\u001b[0;34m(\u001b[0m\u001b[0;34m\"Could not pickle model, sampling singlethreaded.\"\u001b[0m\u001b[0;34m)\u001b[0m\u001b[0;34m\u001b[0m\u001b[0;34m\u001b[0m\u001b[0m\n",
            "\u001b[0;32m/usr/local/lib/python3.6/dist-packages/pymc3/sampling.py\u001b[0m in \u001b[0;36m_mp_sample\u001b[0;34m(draws, tune, step, chains, cores, chain, random_seed, start, progressbar, trace, model, callback, discard_tuned_samples, mp_ctx, pickle_backend, **kwargs)\u001b[0m\n\u001b[1;32m   1500\u001b[0m     \u001b[0;32mexcept\u001b[0m \u001b[0mKeyboardInterrupt\u001b[0m\u001b[0;34m:\u001b[0m\u001b[0;34m\u001b[0m\u001b[0;34m\u001b[0m\u001b[0m\n\u001b[1;32m   1501\u001b[0m         \u001b[0;32mif\u001b[0m \u001b[0mdiscard_tuned_samples\u001b[0m\u001b[0;34m:\u001b[0m\u001b[0;34m\u001b[0m\u001b[0;34m\u001b[0m\u001b[0m\n\u001b[0;32m-> 1502\u001b[0;31m             \u001b[0mtraces\u001b[0m\u001b[0;34m,\u001b[0m \u001b[0mlength\u001b[0m \u001b[0;34m=\u001b[0m \u001b[0m_choose_chains\u001b[0m\u001b[0;34m(\u001b[0m\u001b[0mtraces\u001b[0m\u001b[0;34m,\u001b[0m \u001b[0mtune\u001b[0m\u001b[0;34m)\u001b[0m\u001b[0;34m\u001b[0m\u001b[0;34m\u001b[0m\u001b[0m\n\u001b[0m\u001b[1;32m   1503\u001b[0m         \u001b[0;32melse\u001b[0m\u001b[0;34m:\u001b[0m\u001b[0;34m\u001b[0m\u001b[0;34m\u001b[0m\u001b[0m\n\u001b[1;32m   1504\u001b[0m             \u001b[0mtraces\u001b[0m\u001b[0;34m,\u001b[0m \u001b[0mlength\u001b[0m \u001b[0;34m=\u001b[0m \u001b[0m_choose_chains\u001b[0m\u001b[0;34m(\u001b[0m\u001b[0mtraces\u001b[0m\u001b[0;34m,\u001b[0m \u001b[0;36m0\u001b[0m\u001b[0;34m)\u001b[0m\u001b[0;34m\u001b[0m\u001b[0;34m\u001b[0m\u001b[0m\n",
            "\u001b[0;32m/usr/local/lib/python3.6/dist-packages/pymc3/sampling.py\u001b[0m in \u001b[0;36m_choose_chains\u001b[0;34m(traces, tune)\u001b[0m\n\u001b[1;32m   1518\u001b[0m     \u001b[0mlengths\u001b[0m \u001b[0;34m=\u001b[0m \u001b[0;34m[\u001b[0m\u001b[0mmax\u001b[0m\u001b[0;34m(\u001b[0m\u001b[0;36m0\u001b[0m\u001b[0;34m,\u001b[0m \u001b[0mlen\u001b[0m\u001b[0;34m(\u001b[0m\u001b[0mtrace\u001b[0m\u001b[0;34m)\u001b[0m \u001b[0;34m-\u001b[0m \u001b[0mtune\u001b[0m\u001b[0;34m)\u001b[0m \u001b[0;32mfor\u001b[0m \u001b[0mtrace\u001b[0m \u001b[0;32min\u001b[0m \u001b[0mtraces\u001b[0m\u001b[0;34m]\u001b[0m\u001b[0;34m\u001b[0m\u001b[0;34m\u001b[0m\u001b[0m\n\u001b[1;32m   1519\u001b[0m     \u001b[0;32mif\u001b[0m \u001b[0;32mnot\u001b[0m \u001b[0msum\u001b[0m\u001b[0;34m(\u001b[0m\u001b[0mlengths\u001b[0m\u001b[0;34m)\u001b[0m\u001b[0;34m:\u001b[0m\u001b[0;34m\u001b[0m\u001b[0;34m\u001b[0m\u001b[0m\n\u001b[0;32m-> 1520\u001b[0;31m         \u001b[0;32mraise\u001b[0m \u001b[0mValueError\u001b[0m\u001b[0;34m(\u001b[0m\u001b[0;34m\"Not enough samples to build a trace.\"\u001b[0m\u001b[0;34m)\u001b[0m\u001b[0;34m\u001b[0m\u001b[0;34m\u001b[0m\u001b[0m\n\u001b[0m\u001b[1;32m   1521\u001b[0m \u001b[0;34m\u001b[0m\u001b[0m\n\u001b[1;32m   1522\u001b[0m     \u001b[0midxs\u001b[0m \u001b[0;34m=\u001b[0m \u001b[0mnp\u001b[0m\u001b[0;34m.\u001b[0m\u001b[0margsort\u001b[0m\u001b[0;34m(\u001b[0m\u001b[0mlengths\u001b[0m\u001b[0;34m)\u001b[0m\u001b[0;34m[\u001b[0m\u001b[0;34m:\u001b[0m\u001b[0;34m:\u001b[0m\u001b[0;34m-\u001b[0m\u001b[0;36m1\u001b[0m\u001b[0;34m]\u001b[0m\u001b[0;34m\u001b[0m\u001b[0;34m\u001b[0m\u001b[0m\n",
            "\u001b[0;31mValueError\u001b[0m: Not enough samples to build a trace."
          ]
        }
      ]
    },
    {
      "cell_type": "code",
      "metadata": {
        "id": "IOPvYJ5dDyfo"
      },
      "source": [
        "print(pm.summary(trace))\r\n",
        "\r\n",
        "X_pred = np.vstack([Age, BV]).T\r\n",
        "\r\n",
        "with model:\r\n",
        "  f_pred = gp.conditional('f_pred', X_pred, pred_noise=False) # predict function\r\n",
        "  pred_samples = pm.sample_posterior_predictive(trace, vars=[f_pred], samples=2500)"
      ],
      "execution_count": null,
      "outputs": []
    },
    {
      "cell_type": "code",
      "metadata": {
        "id": "NAREPLlB3Oxe"
      },
      "source": [
        "\r\n",
        "from matplotlib  import cm\r\n",
        "fig = plt.figure(figsize=(12, 5))\r\n",
        "ax = fig.gca()\r\n",
        "\r\n",
        "from pymc3.gp.util import plot_gp_dist\r\n",
        "\r\n",
        "#plot_gp_dist(ax, pred_samples[\"f_pred\"], X_pred[:,0])\r\n",
        "\r\n",
        "## plotting the predictions, make a plot of age on x axis b-v on y, plot points and colour by age\r\n",
        "\r\n",
        "ax.scatter(X_pred[:,0], X_pred[:,1], s=300, c=np.mean(pred_samples['f_pred'],axis=0), marker = 'o', cmap = cm.viridis, label='Colour defines the BV')\r\n",
        "ax.scatter(Age, BV, c=np.log(Prot), s=40, cmap = cm.viridis)"
      ],
      "execution_count": null,
      "outputs": []
    },
    {
      "cell_type": "code",
      "metadata": {
        "id": "jpht4zPx3YBc"
      },
      "source": [
        "A = np.mean(trace['A_'])\r\n",
        "c = np.mean(trace['c_'])\r\n",
        "h = h\r\n",
        "f = np.mean(trace['f_'])\r\n",
        "\r\n",
        "mean = mean_fn(X_pred[:,0], X_pred[:,1], A, c ,h,f)\r\n",
        "fit = (np.mean(pred_samples['f_pred'],axis=0))\r\n",
        "\r\n",
        "\r\n",
        "mu = fit + mean\r\n",
        "\r\n",
        "print(pred_samples['f_pred'].shape)\r\n",
        "sd = np.std(pred_samples['f_pred'],axis=0)\r\n",
        "\r\n",
        "plt.errorbar(Prot, Age, yerr=Age_err, xerr=Prot_err, fmt='o', label='data')\r\n",
        "\r\n",
        "\r\n",
        "plt.errorbar(mu, X_pred[:,0], yerr=sd, fmt='o', label='fitted')\r\n",
        "plt.legend()\r\n",
        "plt.show()\r\n",
        "#x.scatter(X_pred[:,0], X_pred[:,1], s=300, c=np.mean(pred_samples['f_pred'],axis=0)"
      ],
      "execution_count": null,
      "outputs": []
    },
    {
      "cell_type": "code",
      "metadata": {
        "id": "XpXTx1GSCsgF"
      },
      "source": [
        "plt.plot([0, 40], [0, 40], linestyle='--', label='y=x', color='y')\r\n",
        "vals = np.sort([mu, sd], axis=1)\r\n",
        "plt.errorbar(np.sort(Prot_short), vals[0,:], yerr=vals[1,:], fmt='o', label=r'$\\sigma$', color='b', alpha=0.4)\r\n",
        "\r\n",
        "plt.legend()\r\n",
        "plt.show()\r\n",
        "\r\n",
        "Z = (np.sort(Prot_short) - vals[0, :])/(vals[1, :])\r\n",
        "\r\n",
        "\r\n",
        "\r\n",
        "x = np.linspace(-5,5, 1000)\r\n",
        "f = 1/np.sqrt(2 * np.pi) * np.exp(-1/2 * x**2) #N(0,1) to compare with Z \r\n",
        "\r\n",
        "plt.hist(Z, density=True, label='Residual', color='y')\r\n",
        " \r\n",
        "plt.plot(x,f, label='N(0,1)', color='k', linestyle='--')\r\n",
        "txt=\"Figure 2: The residuals of the difference betwen the predictions and the true data, normalised by the standard devition. If this was perfect, it would be a fit a N(0,1) distribution\"\r\n",
        "plt.figtext(0.5, 0.01, txt, wrap=True, horizontalalignment='center', fontsize=12)\r\n",
        "\r\n",
        "plt.legend()\r\n",
        "plt.show()"
      ],
      "execution_count": null,
      "outputs": []
    },
    {
      "cell_type": "code",
      "metadata": {
        "id": "nhPLsuB4fFCs"
      },
      "source": [
        "mu, var = gp.predict(X, point=mp, diag=True, pred_noise=False)\n",
        "sd = np.sqrt(var)\n",
        "\n",
        "mean = mp['A_'] *Age**c * (BV - h)**mp['f_']\n",
        "\n",
        "ydata = Prot\n",
        "num_gen = len(Mass)\n",
        "numElems = len(mu)\n",
        "\n",
        "idx = np.round(np.linspace(0, len(mean) - 1, numElems)).astype(int)\n",
        "# Picks equal spaced elements from (longer) prediction array so that its shape of data\n",
        "\n",
        "\n",
        "mu_test = mean[idx] + mu\n",
        "sd_test = sd\n",
        "\n",
        "\n",
        "vals = np.sort([mu_test, sd_test], axis=1)\n",
        "\n",
        "# sorts them together :) \n",
        "\n",
        "fig = plt.figure(figsize=(14, 10))\n",
        "\n",
        "plt.plot([0, max(Prot)], [0, max(Prot)], linestyle='--', label='y=x', color='y')\n",
        "plt.errorbar(np.sort(Prot_short), vals[0,:], yerr=vals[1,:], fmt='o', label=r'$\\sigma$', color='b', alpha=0.4)\n",
        "\n",
        "\n",
        "plt.xlabel(\"Data\")\n",
        "plt.ylabel(\"Predictions\")\n",
        "plt.title(\"Predicted values vs Data values\")\n",
        "\n",
        "txt=\"Figure 1: This plot shows the difference in predictions of rotational period compared to the true data. If there was 0 difference, this would lie exactly on y=x.\"\n",
        "plt.figtext(0.5, 0.01, txt, wrap=True, horizontalalignment='center', fontsize=12)\n",
        "\n",
        "plt.legend()\n",
        "plt.show()\n",
        "\n",
        "Z = (np.sort(Prot_short) - vals[0, :])/(vals[1, :])\n",
        "\n",
        "\n",
        "\n",
        "x = np.linspace(-5,5, 1000)\n",
        "f = 1/np.sqrt(2 * np.pi) * np.exp(-1/2 * x**2) #N(0,1) to compare with Z \n",
        "\n",
        "plt.hist(Z, density=True, label='Residual', color='y')\n",
        " \n",
        "plt.plot(x,f, label='N(0,1)', color='k', linestyle='--')\n",
        "txt=\"Figure 2: The residuals of the difference betwen the predictions and the true data, normalised by the standard devition. If this was perfect, it would be a fit a N(0,1) distribution\"\n",
        "plt.figtext(0.5, 0.01, txt, wrap=True, horizontalalignment='center', fontsize=12)\n",
        "\n",
        "plt.legend()\n",
        "plt.show()\n"
      ],
      "execution_count": null,
      "outputs": []
    },
    {
      "cell_type": "markdown",
      "metadata": {
        "id": "iCEjdFI5Lxb6"
      },
      "source": [
        "These two plots are evidence that this model does fit the data very well. We can use the parameters and hyper parameters gathered here for future GP implementations on true data. "
      ]
    },
    {
      "cell_type": "code",
      "metadata": {
        "id": "OHY4QchDKU32"
      },
      "source": [
        "'''n = 200  # The number of data points\r\n",
        "X = np.linspace(0, 10, n)[:, None]  # The inputs to the GP must be arranged as a column vector\r\n",
        "\r\n",
        "# Define the true covariance function and its parameters\r\n",
        "ℓ_true = 1.0\r\n",
        "η_true = 3.0\r\n",
        "cov_func = η_true ** 2 * pm.gp.cov.Matern52(1, ℓ_true)\r\n",
        "\r\n",
        "# A mean function that is zero everywhere\r\n",
        "mean_func = pm.gp.mean.Zero()\r\n",
        "\r\n",
        "# The latent function values are one sample from a multivariate normal\r\n",
        "# Note that we have to call `eval()` because PyMC3 built on top of Theano\r\n",
        "f_true = np.random.multivariate_normal(\r\n",
        "    mean_func(X).eval(), cov_func(X).eval() + 1e-8 * np.eye(n), 1\r\n",
        ").flatten()\r\n",
        "\r\n",
        "# The observed data is the latent function plus a small amount of T distributed noise\r\n",
        "# The standard deviation of the noise is `sigma`, and the degrees of freedom is `nu`\r\n",
        "σ_true = 2.0\r\n",
        "ν_true = 3.0\r\n",
        "y = f_true + σ_true * np.random.standard_t(ν_true, size=n)\r\n",
        "\r\n",
        "## Plot the data and the unobserved latent function\r\n",
        "fig = plt.figure(figsize=(12, 5))\r\n",
        "ax = fig.gca()\r\n",
        "ax.plot(X, f_true, \"dodgerblue\", lw=3, label=\"True generating function 'f'\")\r\n",
        "ax.plot(X, y, \"ok\", ms=3, label=\"Observed data\")\r\n",
        "ax.set_xlabel(\"X\")\r\n",
        "ax.set_ylabel(\"y\")\r\n",
        "plt.legend();\r\n",
        "\r\n",
        "'''"
      ],
      "execution_count": null,
      "outputs": []
    },
    {
      "cell_type": "code",
      "metadata": {
        "id": "hgWTIIy7Peas"
      },
      "source": [
        "'''with pm.Model() as model:\r\n",
        "    ℓ = pm.Gamma(\"ℓ\", alpha=2, beta=1)\r\n",
        "    η = pm.HalfCauchy(\"η\", beta=1)\r\n",
        "\r\n",
        "    cov = η ** 2 * pm.gp.cov.Matern52(1, ℓ)\r\n",
        "    gp = pm.gp.Latent(cov_func=cov)\r\n",
        "\r\n",
        "    f = gp.prior(\"f\", X=X)\r\n",
        "\r\n",
        "    σ = pm.HalfCauchy(\"σ\", beta=5)\r\n",
        "    ν = pm.Gamma(\"ν\", alpha=2, beta=0.1)\r\n",
        "    y_ = pm.StudentT(\"y\", mu=f, lam=1.0 / σ, nu=ν, observed=y)\r\n",
        "\r\n",
        "    trace = pm.sample(1000, chains=2, cores=1, return_inferencedata=True)\r\n",
        "\r\n",
        "'''"
      ],
      "execution_count": null,
      "outputs": []
    },
    {
      "cell_type": "code",
      "metadata": {
        "id": "2YFPpdIWPQVg"
      },
      "source": [
        "# 200 new values from x=0 to x=15\r\n",
        "'''\r\n",
        "n_new = 200\r\n",
        "X_new = np.linspace(0, 15, n_new)[:, None]\r\n",
        "\r\n",
        "# add the GP conditional to the model, given the new X values\r\n",
        "with model:\r\n",
        "    f_pred = gp.conditional(\"f_pred\", X_new)\r\n",
        "\r\n",
        "# Sample from the GP conditional distribution\r\n",
        "with model:\r\n",
        "    pred_samples = pm.sample_posterior_predictive(trace.posterior, vars=[f_pred])'''"
      ],
      "execution_count": null,
      "outputs": []
    },
    {
      "cell_type": "code",
      "metadata": {
        "id": "kkyeAm4xOwxA"
      },
      "source": [
        "'''fig = plt.figure(figsize=(12, 5))\r\n",
        "ax = fig.gca()\r\n",
        "plot_gp_dist(ax, pred_samples[\"f_pred\"], X_new)\r\n",
        "\r\n",
        "ax.plot(X, f_true, \"dodgerblue\", lw=3, label=\"True generating function 'f'\")\r\n",
        "ax.plot(X, y, \"ok\", ms=3, label=\"Observed data\")\r\n",
        "\r\n",
        "ax.set_xlabel(\"X\")\r\n",
        "ax.set_ylabel(\"True f(x)\")\r\n",
        "ax.set_title(\"Conditional distribution of f_*, given f\")\r\n",
        "plt.legend();'''"
      ],
      "execution_count": null,
      "outputs": []
    },
    {
      "cell_type": "markdown",
      "metadata": {
        "id": "9O4Ye8PYyfMF"
      },
      "source": [
        "Second fast component t the gp when we dont have B-V"
      ]
    }
  ]
}
