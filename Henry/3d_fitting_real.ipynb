{
  "nbformat": 4,
  "nbformat_minor": 0,
  "metadata": {
    "colab": {
      "name": "3d fitting real.ipynb",
      "provenance": [],
      "collapsed_sections": []
    },
    "kernelspec": {
      "display_name": "Python 3",
      "name": "python3"
    }
  },
  "cells": [
    {
      "cell_type": "markdown",
      "metadata": {
        "id": "w1TXAb4abul0"
      },
      "source": [
        "# To-do list\n",
        "\n",
        "## Metalicty\n",
        "\n",
        "# To look into list\n",
        "Hierarchical model <br>\n",
        "Varitational inference <br>\n",
        "Different samplers - HMC <br>\n",
        "Posterior predictive checks \n",
        "Use Gyrs \n",
        "\n",
        "\n",
        "\n",
        "# rotaation bv and age observers GC\n",
        "# period age mass and metalictty fundemental GC\n"
      ]
    },
    {
      "cell_type": "code",
      "metadata": {
        "colab": {
          "base_uri": "https://localhost:8080/"
        },
        "id": "lxk9n77qI_wX",
        "outputId": "60d77422-aa04-4275-95b2-bf9b240470c9"
      },
      "source": [
        "!pip install arviz==0.11.0\n",
        "!pip install pymc3==3.11.1\n",
        "!pip install PyAstronomy\n"
      ],
      "execution_count": 1,
      "outputs": [
        {
          "output_type": "stream",
          "text": [
            "Requirement already satisfied: arviz==0.11.0 in /usr/local/lib/python3.7/dist-packages (0.11.0)\n",
            "Requirement already satisfied: numpy>=1.12 in /usr/local/lib/python3.7/dist-packages (from arviz==0.11.0) (1.19.5)\n",
            "Requirement already satisfied: netcdf4 in /usr/local/lib/python3.7/dist-packages (from arviz==0.11.0) (1.5.6)\n",
            "Requirement already satisfied: setuptools>=38.4 in /usr/local/lib/python3.7/dist-packages (from arviz==0.11.0) (54.1.2)\n",
            "Requirement already satisfied: pandas>=0.23 in /usr/local/lib/python3.7/dist-packages (from arviz==0.11.0) (1.1.5)\n",
            "Requirement already satisfied: scipy>=0.19 in /usr/local/lib/python3.7/dist-packages (from arviz==0.11.0) (1.4.1)\n",
            "Requirement already satisfied: packaging in /usr/local/lib/python3.7/dist-packages (from arviz==0.11.0) (20.9)\n",
            "Requirement already satisfied: matplotlib>=3.0 in /usr/local/lib/python3.7/dist-packages (from arviz==0.11.0) (3.2.2)\n",
            "Requirement already satisfied: xarray>=0.16.1 in /usr/local/lib/python3.7/dist-packages (from arviz==0.11.0) (0.17.0)\n",
            "Requirement already satisfied: typing-extensions<4,>=3.7.4.3 in /usr/local/lib/python3.7/dist-packages (from arviz==0.11.0) (3.7.4.3)\n",
            "Requirement already satisfied: cftime in /usr/local/lib/python3.7/dist-packages (from netcdf4->arviz==0.11.0) (1.4.1)\n",
            "Requirement already satisfied: python-dateutil>=2.7.3 in /usr/local/lib/python3.7/dist-packages (from pandas>=0.23->arviz==0.11.0) (2.8.1)\n",
            "Requirement already satisfied: pytz>=2017.2 in /usr/local/lib/python3.7/dist-packages (from pandas>=0.23->arviz==0.11.0) (2018.9)\n",
            "Requirement already satisfied: pyparsing>=2.0.2 in /usr/local/lib/python3.7/dist-packages (from packaging->arviz==0.11.0) (2.4.7)\n",
            "Requirement already satisfied: kiwisolver>=1.0.1 in /usr/local/lib/python3.7/dist-packages (from matplotlib>=3.0->arviz==0.11.0) (1.3.1)\n",
            "Requirement already satisfied: cycler>=0.10 in /usr/local/lib/python3.7/dist-packages (from matplotlib>=3.0->arviz==0.11.0) (0.10.0)\n",
            "Requirement already satisfied: six>=1.5 in /usr/local/lib/python3.7/dist-packages (from python-dateutil>=2.7.3->pandas>=0.23->arviz==0.11.0) (1.15.0)\n",
            "Requirement already satisfied: pymc3==3.11.1 in /usr/local/lib/python3.7/dist-packages (3.11.1)\n",
            "Requirement already satisfied: theano-pymc==1.1.2 in /usr/local/lib/python3.7/dist-packages (from pymc3==3.11.1) (1.1.2)\n",
            "Requirement already satisfied: pandas>=0.24.0 in /usr/local/lib/python3.7/dist-packages (from pymc3==3.11.1) (1.1.5)\n",
            "Requirement already satisfied: fastprogress>=0.2.0 in /usr/local/lib/python3.7/dist-packages (from pymc3==3.11.1) (1.0.0)\n",
            "Requirement already satisfied: numpy>=1.15.0 in /usr/local/lib/python3.7/dist-packages (from pymc3==3.11.1) (1.19.5)\n",
            "Requirement already satisfied: typing-extensions>=3.7.4 in /usr/local/lib/python3.7/dist-packages (from pymc3==3.11.1) (3.7.4.3)\n",
            "Requirement already satisfied: arviz>=0.11.0 in /usr/local/lib/python3.7/dist-packages (from pymc3==3.11.1) (0.11.0)\n",
            "Requirement already satisfied: dill in /usr/local/lib/python3.7/dist-packages (from pymc3==3.11.1) (0.3.3)\n",
            "Requirement already satisfied: scipy>=1.2.0 in /usr/local/lib/python3.7/dist-packages (from pymc3==3.11.1) (1.4.1)\n",
            "Requirement already satisfied: patsy>=0.5.1 in /usr/local/lib/python3.7/dist-packages (from pymc3==3.11.1) (0.5.1)\n",
            "Requirement already satisfied: filelock in /usr/local/lib/python3.7/dist-packages (from theano-pymc==1.1.2->pymc3==3.11.1) (3.0.12)\n",
            "Requirement already satisfied: pytz>=2017.2 in /usr/local/lib/python3.7/dist-packages (from pandas>=0.24.0->pymc3==3.11.1) (2018.9)\n",
            "Requirement already satisfied: python-dateutil>=2.7.3 in /usr/local/lib/python3.7/dist-packages (from pandas>=0.24.0->pymc3==3.11.1) (2.8.1)\n",
            "Requirement already satisfied: matplotlib>=3.0 in /usr/local/lib/python3.7/dist-packages (from arviz>=0.11.0->pymc3==3.11.1) (3.2.2)\n",
            "Requirement already satisfied: setuptools>=38.4 in /usr/local/lib/python3.7/dist-packages (from arviz>=0.11.0->pymc3==3.11.1) (54.1.2)\n",
            "Requirement already satisfied: netcdf4 in /usr/local/lib/python3.7/dist-packages (from arviz>=0.11.0->pymc3==3.11.1) (1.5.6)\n",
            "Requirement already satisfied: xarray>=0.16.1 in /usr/local/lib/python3.7/dist-packages (from arviz>=0.11.0->pymc3==3.11.1) (0.17.0)\n",
            "Requirement already satisfied: packaging in /usr/local/lib/python3.7/dist-packages (from arviz>=0.11.0->pymc3==3.11.1) (20.9)\n",
            "Requirement already satisfied: six in /usr/local/lib/python3.7/dist-packages (from patsy>=0.5.1->pymc3==3.11.1) (1.15.0)\n",
            "Requirement already satisfied: kiwisolver>=1.0.1 in /usr/local/lib/python3.7/dist-packages (from matplotlib>=3.0->arviz>=0.11.0->pymc3==3.11.1) (1.3.1)\n",
            "Requirement already satisfied: pyparsing!=2.0.4,!=2.1.2,!=2.1.6,>=2.0.1 in /usr/local/lib/python3.7/dist-packages (from matplotlib>=3.0->arviz>=0.11.0->pymc3==3.11.1) (2.4.7)\n",
            "Requirement already satisfied: cycler>=0.10 in /usr/local/lib/python3.7/dist-packages (from matplotlib>=3.0->arviz>=0.11.0->pymc3==3.11.1) (0.10.0)\n",
            "Requirement already satisfied: cftime in /usr/local/lib/python3.7/dist-packages (from netcdf4->arviz>=0.11.0->pymc3==3.11.1) (1.4.1)\n",
            "Requirement already satisfied: PyAstronomy in /usr/local/lib/python3.7/dist-packages (0.16.0)\n",
            "Requirement already satisfied: numpy in /usr/local/lib/python3.7/dist-packages (from PyAstronomy) (1.19.5)\n",
            "Requirement already satisfied: six in /usr/local/lib/python3.7/dist-packages (from PyAstronomy) (1.15.0)\n"
          ],
          "name": "stdout"
        }
      ]
    },
    {
      "cell_type": "code",
      "metadata": {
        "colab": {
          "base_uri": "https://localhost:8080/"
        },
        "id": "-C8F1X6SkABJ",
        "outputId": "3d808a33-5659-41cf-999d-f527432f6334"
      },
      "source": [
        "import matplotlib.pyplot as plt\n",
        "import numpy as np\n",
        "#import scipy\n",
        "import pandas as pd\n",
        "\n",
        "import pymc3 as pm\n",
        "import theano as tt\n",
        "import arviz \n",
        "pd.options.display.max_rows = 4000\n",
        " \n",
        "from mpl_toolkits.mplot3d import Axes3D\n",
        "from matplotlib  import cm\n",
        "from PyAstronomy import pyasl\n",
        "\n",
        "from google.colab import drive\n",
        "from google.colab import files\n",
        "drive.mount('/content/drive')\n",
        "\n",
        "print(f\"Running on PyMC3 v{pm.__version__}\")"
      ],
      "execution_count": 2,
      "outputs": [
        {
          "output_type": "stream",
          "text": [
            "Drive already mounted at /content/drive; to attempt to forcibly remount, call drive.mount(\"/content/drive\", force_remount=True).\n",
            "Running on PyMC3 v3.11.1\n"
          ],
          "name": "stdout"
        }
      ]
    },
    {
      "cell_type": "code",
      "metadata": {
        "id": "SnWJG1DSGHjU"
      },
      "source": [
        "def mean_fn(t, B, A, c, h, f):\n",
        "  return A * (t)**c  * (B-h)**f\n",
        "\n",
        "\n",
        "def log_mean_fn(log_Age, BV, A,c,h,f):\n",
        "  return np.log(A) +c*log_Age + f*np.log(BV-h)\n",
        "\n",
        "\n",
        "\n",
        "\n",
        "\n",
        "\n",
        "\n",
        "\n",
        "def log_err(vals, val, err_lo):\n",
        "  return np.mean(np.log(vals)) - np.log(np.mean(vals)- err_lo) ## this works \n",
        "\n",
        "\n",
        "\n",
        "#def log_err(vals, val, err_lo):\n",
        " # return np.log(val) - np.log(val- err_lo)\n",
        "\n",
        "\n",
        "#def lin_err(vals, val, err_lo):\n",
        "#  return val * log_err(vals, val, err_lo)\n",
        "\n",
        "def lin_err(val, sig_hi, sig_lo):\n",
        "  return (sig_hi +sig_lo)/2\n",
        "  "
      ],
      "execution_count": 3,
      "outputs": []
    },
    {
      "cell_type": "code",
      "metadata": {
        "colab": {
          "base_uri": "https://localhost:8080/"
        },
        "id": "Klmm5z_zkS5v",
        "outputId": "0b40f984-94fc-41eb-c19d-ee77e8cbc4ac"
      },
      "source": [
        "##### OPTIONS #####\n",
        "#data1 16th points = 91 total\n",
        "\n",
        "\n",
        "\n",
        "\n",
        "\n",
        "\n",
        "data = pd.read_csv('/content/drive/My Drive/data/real_data.csv', header=0)\n",
        "flag = np.array(data['flag'])\n",
        "\n",
        "Teff = np.array(data['Teff'])\n",
        "\n",
        "Teff_err = np.array(data['eTeff'])\n",
        "\n",
        "Age = np.array(data['age']) # convert to Megayrs\n",
        "Age_err_lo = np.array(data['loage'])\n",
        "Age_err_hi = np.array(data['upage'])\n",
        "\n",
        "Prot = np.array(data['P'])\n",
        "Prot_err_lo = np.array(data['l_P'])\n",
        "Prot_err_hi = np.array(data['u_P'])\n",
        "\n",
        "b = pyasl.BallesterosBV_T()\n",
        "data_points = Prot.shape[0]\n",
        "\n",
        "\n",
        "#Prot_err = np.array([lin_err(Prot, Prot[i], Prot_err_lo[i]) for i in range(data_points)])\n",
        "#Age_err = np.array([lin_err(Age, Age[i], Age_err_lo[i]) for i in range(data_points)])\n",
        "\n",
        "Age_err = np.array([lin_err(Age[i], Age_err_lo[i], Age_err_hi[i]) for i in range(data_points)])\n",
        "Prot_err = np.array([lin_err(Prot[i], Prot_err_lo[i], Prot_err_hi[i]) for i in range(data_points)])\n",
        "\n",
        "\n",
        "sel_good = np.where((Age > 0.5)& (Prot_err < 40)) # select stars that arent too young and have 'sensible' error\n",
        "\n",
        "sel_bad = np.where((Prot < 5)& (Prot_err < 40)&(Age>5)) # Remove old stars that spin too fast\n",
        "\n",
        "sel = (np.delete(sel_good, sel_bad))\n",
        "\n",
        "\n",
        "\n",
        "Teff = Teff[sel]\n",
        "Teff_err = Teff_err[sel]\n",
        "Age = Age[sel]\n",
        "Age_err_lo = Age_err_lo[sel]\n",
        "Age_err_hi = Age_err_hi[sel]\n",
        "Age_err = Age_err [sel]\n",
        "\n",
        "Prot = Prot[sel]\n",
        "Prot_err_lo = Prot_err_lo[sel]\n",
        "Prot_err_hi = Prot_err_hi[sel]\n",
        "Prot_err = Prot_err [sel]\n",
        "\n",
        "BV =  b.t2bv(np.array(Teff))\n",
        "\n",
        "BV_err = Teff_err/Teff * BV\n",
        "\n",
        "data_points = Prot.shape[0]\n",
        "\n",
        "print('Using: ',data_points)\n",
        "print('From: ',data.shape)\n"
      ],
      "execution_count": 4,
      "outputs": [
        {
          "output_type": "stream",
          "text": [
            "Using:  91\n",
            "From:  (94, 27)\n"
          ],
          "name": "stdout"
        }
      ]
    },
    {
      "cell_type": "code",
      "metadata": {
        "colab": {
          "base_uri": "https://localhost:8080/",
          "height": 811
        },
        "id": "lSj19tzUEvSa",
        "outputId": "f05e460e-61af-4a3f-f761-1a37a87ff6c2"
      },
      "source": [
        "\n",
        "\n",
        "\n",
        "\n",
        "plt.errorbar(Prot, Age,yerr=Age_err,xerr=Prot_err,fmt='o')\n",
        "plt.show()\n",
        "plt.plot(Age, np.abs(Age_err), 'ok')\n",
        "\n",
        "print(np.sort(Prot_err))"
      ],
      "execution_count": 5,
      "outputs": [
        {
          "output_type": "display_data",
          "data": {
            "image/png": "[encoded data removed]",
            "text/plain": [
              "<Figure size 432x288 with 1 Axes>"
            ]
          },
          "metadata": {
            "tags": [],
            "needs_background": "light"
          }
        },
        {
          "output_type": "stream",
          "text": [
            "[ 0.09896664  0.10449709  0.1533777   0.16307147  0.21702951  0.24456392\n",
            "  0.26752853  0.31806106  0.35731777  0.37481226  0.45559958  0.48252665\n",
            "  0.49973618  0.51047451  0.51274558  0.51576927  0.52440865  0.5319714\n",
            "  0.55697289  0.58397748  0.59212969  0.60819583  0.65798852  0.67727593\n",
            "  0.68925145  0.72398305  0.73657433  0.78167618  0.93546604  0.99545336\n",
            "  1.01004423  1.01742008  1.14356405  1.16431968  1.31998598  1.36004331\n",
            "  1.40514525  1.54496817  1.57393961  1.64148053  1.64161215  1.94157594\n",
            "  1.99655309  2.00864621  2.04398235  2.14367426  2.3985912   2.5167709\n",
            "  2.61550219  3.23677147  3.41642965  3.68487884  4.09903918  4.17186095\n",
            "  4.26738676  4.29152901  4.46553991  4.51899728  4.99462094  5.57171239\n",
            "  5.61963896  5.6736072   6.37284641  6.82834684  7.17901511  7.72419753\n",
            "  7.84549381  8.81341549  8.99442345 10.39939871 10.57585749 10.68987708\n",
            " 11.02918412 12.17205726 13.02032401 13.53041853 14.65612622 16.48972192\n",
            " 16.51971961 17.25592595 17.53369695 18.01682535 18.49634156 18.50603336\n",
            " 20.10507433 21.909713   25.4206361  26.20998447 26.9399219  28.5012919\n",
            " 30.07157322]\n"
          ],
          "name": "stdout"
        },
        {
          "output_type": "display_data",
          "data": {
            "image/png": "[encoded data removed]",
            "text/plain": [
              "<Figure size 432x288 with 1 Axes>"
            ]
          },
          "metadata": {
            "tags": [],
            "needs_background": "light"
          }
        }
      ]
    },
    {
      "cell_type": "code",
      "metadata": {
        "colab": {
          "base_uri": "https://localhost:8080/",
          "height": 780
        },
        "id": "CrMqhpDXLB58",
        "outputId": "0b70d915-5017-4363-d3a3-5dd39a3bafa3"
      },
      "source": [
        "X = np.array([Age, BV]).T \n",
        "h = 0.4 \n",
        "f = 0.601 \n",
        "c = 0.52\n",
        "A = 0.7725 * np.sqrt(1000)\n",
        "\n",
        "\n",
        "b = pyasl.BallesterosBV_T()\n",
        "\n",
        "\n",
        "\n",
        "Prot_guess  = mean_fn(X[:,0], X[:,1], A, c,h,f)\n",
        "plt.scatter(X[:,0], Prot_guess,s=300, c=X[:,1], cmap = cm.viridis, label='model')\n",
        "#plt.show()\n",
        "plt.scatter(Age, Prot, c=BV,s=100,cmap = cm.viridis, label='data')\n",
        "\n",
        "plt.show()\n",
        "\n",
        "\n",
        "data2 = np.genfromtxt('/content/drive/My Drive/data/data1.csv', delimiter=',', skip_header=1)\n",
        "smp_rt=10\n",
        "Teff2 = data2[:,0][0::smp_rt] # Teff\n",
        "Prot2 = data2[:, 1][0::smp_rt]  # Prot\n",
        "Age2 = data2[:, 2][0::smp_rt]  # Age \n",
        "BV2 = b.t2bv(np.array(Teff2))\n",
        "\n",
        "Prot_guess2 = mean_fn(Age2, BV2, A,c,h,f)\n",
        "\n",
        "plt.scatter(Age2, Prot_guess2,s=300, c=BV2, cmap = cm.viridis, label='model')\n",
        "plt.scatter(Age2, Prot2, c=BV2,s=100,cmap = cm.viridis, label='data')\n",
        "plt.show()\n",
        "\n",
        "\n",
        "\n",
        "plt.scatter(Prot, Age)\n",
        "plt.scatter(Prot_guess,Age)"
      ],
      "execution_count": 6,
      "outputs": [
        {
          "output_type": "display_data",
          "data": {
            "image/png": "[encoded data removed]",
            "text/plain": [
              "<Figure size 432x288 with 1 Axes>"
            ]
          },
          "metadata": {
            "tags": [],
            "needs_background": "light"
          }
        },
        {
          "output_type": "display_data",
          "data": {
            "image/png": "[encoded data removed]",
            "text/plain": [
              "<Figure size 432x288 with 1 Axes>"
            ]
          },
          "metadata": {
            "tags": [],
            "needs_background": "light"
          }
        },
        {
          "output_type": "execute_result",
          "data": {
            "text/plain": [
              "<matplotlib.collections.PathCollection at 0x7fd3d2ac4ad0>"
            ]
          },
          "metadata": {
            "tags": []
          },
          "execution_count": 6
        },
        {
          "output_type": "display_data",
          "data": {
            "image/png": "[encoded data removed]",
            "text/plain": [
              "<Figure size 432x288 with 1 Axes>"
            ]
          },
          "metadata": {
            "tags": [],
            "needs_background": "light"
          }
        }
      ]
    },
    {
      "cell_type": "markdown",
      "metadata": {
        "id": "KMEMZHg7dr1d"
      },
      "source": [
        "https://iopscience.iop.org/article/10.1088/0004-637X/695/1/679/pdf\n",
        "In this article a form is given to determine P from Bv and age that is of a slightly sifferent form to what I am currently using.\n",
        "$P(t, B-V) = t^{0.52} g(B-V -h)^f$ <br>\n",
        "where $g=0.77, h=0.4, f = 0.6$. I will now construct another GP using this as the mean function and see how it goes.\n",
        "\n",
        "Im gonna sort of bash the BV dependance onto the end of my current mass, age mean function and see how it goes B). The new mean function will look like $P(t,m,(B-V)) = At^cm^d((B-V)-h)^f$. Where I a taking d from the previous GP, here A is going to be allowed to vary and the starting value will be $A^{\\star}g$, where $A^{\\star}$ is the A from before.  \n",
        "\n",
        "This has resulted in considerably better results.\n"
      ]
    },
    {
      "cell_type": "code",
      "metadata": {
        "colab": {
          "base_uri": "https://localhost:8080/"
        },
        "id": "Q1wrxRqcfbdB",
        "outputId": "73cf19e1-7303-463d-c4fd-3703e5aa267d"
      },
      "source": [
        "#### book ####\n",
        "\n",
        "\n",
        "h = 0.4 \n",
        "f = 0.601 \n",
        "c = 0.5189 \n",
        "A = 0.7725 * np.sqrt(1000) \n",
        "\n",
        "# fix barnes values \n",
        "\n",
        "\n",
        "X = np.array([Age, BV]).T \n",
        "print(X.shape)\n",
        "\n",
        "\n",
        "with pm.Model() as model:\n",
        "    #c_ = pm.Normal('c_', c, c*0.25)\n",
        "    c_ = c\n",
        "    #f_ = pm.Normal('f_', f, f*0.25)\n",
        "    f_ = f\n",
        "    #A_ = pm.Normal('A_', A, A*0.25)\n",
        "    A_ = A\n",
        "    \n",
        "    Age_true = pm.Uniform('Age_true', 0, 14, shape=data_points)\n",
        "    Age_obs = pm.Normal(\"Age_obs\", Age_true, np.abs(Age_err), observed=X[:,0])\n",
        "\n",
        "\n",
        "    \n",
        "\n",
        "    BV_true = pm.Lognormal(\"BV_true\", 1, 1, shape=data_points)\n",
        "    BV_obs = pm.Normal(\"BV_obs\", BV_true, np.abs(BV_err), observed=X[:,1])\n",
        "\n",
        "    mean = mean_fn(Age_true, BV_true, A_,c_,h,f_)\n",
        "    resid = Prot - mean\n",
        "   \n",
        "    l1 = pm.Normal('l1', mu=13, sigma=2)  # 20\n",
        "\n",
        "    l2 = pm.Lognormal(\"l2\", np.log(0.15), 0.1)\n",
        "    #l2 = pm.Normal('l2', 0.15, 0.1)\n",
        "    sf1 = pm.Normal('sf1', 10, 2)\n",
        "    \n",
        "    sf2 = pm.Lognormal(\"sf2\", np.log(0.2), 0.1)\n",
        "    #sf2 = pm.Normal('sf2', 0.2, 0.1)\n",
        "\n",
        "    K1 = pm.gp.cov.ExpQuad(2, l1) * sf1**2\n",
        "    K2 = pm.gp.cov.ExpQuad(2, l2) * sf2**2\n",
        "\n",
        "    K = K1 * K2 # try multiply \n",
        "\n",
        "\n",
        "    gp = pm.gp.Marginal(cov_func=K)\n",
        "    #x = tt.tensor.stack([Age_true, BV_true])\n",
        "\n",
        "    obs = gp.marginal_likelihood(\"obs\", X=X , y=resid, noise=np.abs(Prot_err))\n",
        "\n",
        "    # big gp book says constnat plus a product of linear + white noise will do the trick\n",
        "\n",
        "\n"
      ],
      "execution_count": 7,
      "outputs": [
        {
          "output_type": "stream",
          "text": [
            "(91, 2)\n"
          ],
          "name": "stdout"
        }
      ]
    },
    {
      "cell_type": "code",
      "metadata": {
        "id": "ABdzewdyFuuJ"
      },
      "source": [
        "\n",
        "with model:\n",
        "  trace = pm.sample(2000, tune=3000, cores=2, target_accept=0.95)\n",
        "  arviz.plot_trace(trace)"
      ],
      "execution_count": null,
      "outputs": []
    },
    {
      "cell_type": "code",
      "metadata": {
        "id": "IOPvYJ5dDyfo"
      },
      "source": [
        "with model:\n",
        "  print(arviz.summary(trace))\n",
        "\n",
        "\n",
        "lst = trace.varnames\n",
        "# list of all variables to sample posterior over\n",
        "lst.append('f_pred')\n",
        "vars = np.asarray(lst)\n",
        "\n",
        "with model:\n",
        "  f_pred = gp.conditional('f_pred', X, pred_noise=False) # predict function\n",
        "  pred_samples = pm.sample_posterior_predictive(trace, var_names=vars,samples=2500)\n"
      ],
      "execution_count": null,
      "outputs": []
    },
    {
      "cell_type": "code",
      "metadata": {
        "id": "zFOX9g5fLzCJ"
      },
      "source": [
        "\n",
        "new_err = np.mean([ trace.get_values('Age_true')[:,i].std()/  trace.get_values('Age_true')[:,i].mean() for i in range(data_points)])\n",
        "old_err =np.mean(np.abs(Age_err/Age))\n",
        "\n",
        "\n",
        "print('Initianl error: ', old_err*100, '%')\n",
        "print('New error: ', new_err*100,'%')\n",
        "print(\"Difference in error = {}%  :)\".format(round((new_err-old_err)*100,5)))\n"
      ],
      "execution_count": null,
      "outputs": []
    },
    {
      "cell_type": "code",
      "metadata": {
        "id": "qGHEqHTw8FNe"
      },
      "source": [
        "print(trace.get_values('Age_true').shape)\n",
        "Age_new = np.mean(trace.get_values('Age_true'), axis=0)\n",
        "BV_new = np.mean(trace.get_values('BV_true'), axis=0)\n",
        "print(Age_new.shape)"
      ],
      "execution_count": null,
      "outputs": []
    },
    {
      "cell_type": "code",
      "metadata": {
        "id": "NAREPLlB3Oxe"
      },
      "source": [
        " \n",
        "'''\n",
        "A = np.mean(trace['A_'])\n",
        "c = np.mean(trace['c_'])\n",
        "h = h\n",
        "f = np.mean(trace['f_'])\n",
        "\n",
        "\n",
        "'''\n",
        "\n",
        "X = np.array([Age, BV]).T \n",
        "fig = plt.figure(figsize=(12, 5))\n",
        "ax = fig.gca()\n",
        "\n",
        "\n",
        "\n",
        "fit, var = gp.predict(X, point=trace[-1], diag=True)\n",
        "sd = np.sqrt(var)\n",
        "\n",
        "\n",
        "mean = mean_fn(X[:,0], X[:,1], A, c ,h,f)\n",
        "\n",
        "mu = fit + mean\n",
        "\n",
        "\n",
        "\n",
        "## plotting the predictions, make a plot of age on x axis b-v on y, plot points and colour by age\n",
        "\n",
        "\n",
        "\n",
        "\n",
        "plt.plot([],[], color='w',label='A = {}\\n c = {}\\n f = {}'.format(round(A,4), round(c,4), round(f,4)))\n",
        "plt.scatter(X[:,0], mu, s=300, c=X[:,1], marker = 'X', cmap = cm.viridis, label='fit', edgecolors='k')\n",
        "plt.xlabel('Age (Gyrs)', fontsize=16)\n",
        "plt.ylabel('Rotational period (Days) ', fontsize=16)\n",
        "plt.colorbar(label='BV')\n",
        "plt.scatter(Age, Prot, c=BV, s=100, cmap = cm.viridis,label='data')\n",
        "plt.legend()\n",
        "plt.savefig('col_Ba.png')\n",
        "files.download('col_Ba.png')\n",
        "plt.show()\n",
        "\n",
        "'''\n",
        "fig = plt.figure(figsize=(12, 5))\n",
        "plt.scatter(X[:,0], mu, s=300, c=X[:,1], marker = 's', cmap = cm.viridis, label='fit', edgecolors='k')\n",
        "#plt.scatter(X[:,0], mu - fit, s=300, c=X[:,1], marker = 'o', cmap = cm.viridis, label='barnes',edgecolors='k')\n",
        "plt.scatter(X[:,0], mean_fn(X[:,0], X[:,1], 0.7725*np.sqrt(1000), 0.5189, 0.4, 0.601), s=300, c=X[:,1], marker = 'X', cmap = cm.viridis, label='Barnes', edgecolors='k')\n",
        "plt.xlabel('Age (Gyrs)', fontsize=16)\n",
        "plt.ylabel('Rotational period (Days) ', fontsize=16)\n",
        "plt.colorbar(label='BV')\n",
        "plt.scatter(Age, Prot, c=BV, s=100, cmap = cm.viridis,label='data')\n",
        "\n",
        "\n",
        "\n",
        "plt.legend()\n",
        "plt.savefig('col_fit_comp.png')\n",
        "files.download('col_fit_comp.png')\n",
        "\n",
        "plt.show()\n",
        "'''"
      ],
      "execution_count": null,
      "outputs": []
    },
    {
      "cell_type": "code",
      "metadata": {
        "id": "jpht4zPx3YBc"
      },
      "source": [
        "fit, var = gp.predict(X, point=trace[-1], diag=True)\n",
        "\n",
        "#mu = mean + fit\n",
        "std = np.sqrt(var) * np.sign(var)\n",
        "\n",
        "vals = np.sort(np.array([mu, std, Prot]), axis=1)\n",
        "\n",
        "\n",
        "age_fit_err = [trace.get_values('Age_true')[:,i].std() for i in range(trace.get_values('Age_true').shape[1])]\n",
        "bv_fit_err = [trace.get_values('BV_true')[:,i].std() for i in range(trace.get_values('BV_true').shape[1])]\n",
        "\n",
        "\n",
        "plt.errorbar(Prot, Age, yerr=Age_err, xerr=Prot_err, fmt='o', label='data')\n",
        "plt.errorbar(vals[0,:], X[:,0], xerr=vals[1,:], yerr=age_fit_err, fmt='o', label='fitted')\n",
        "plt.legend()\n",
        "plt.show()\n",
        "\n",
        "\n",
        "plt.errorbar(Prot, BV, yerr=BV_err, xerr=Prot_err, fmt='o', label='data')\n",
        "\n",
        "\n",
        "\n",
        "order = np.argsort(X[:,1])\n",
        "\n",
        "\n",
        "plt.errorbar(vals[0,:][order], X[:,1][order], xerr=vals[1,:][order], yerr=bv_fit_err, fmt='o', label='fitted')\n",
        "plt.legend()\n",
        "plt.show()\n"
      ],
      "execution_count": null,
      "outputs": []
    },
    {
      "cell_type": "code",
      "metadata": {
        "id": "XpXTx1GSCsgF"
      },
      "source": [
        "plt.figure(num=None, figsize=(8, 6), dpi=80, facecolor='w', edgecolor='k')\n",
        "\n",
        "plt.plot([0, np.amax(vals[2,:])], [0, np.amax(vals[2,:])], linestyle='--', label='y=x', color='r')\n",
        "plt.errorbar(vals[2,:], vals[0,:], yerr=vals[1,:], fmt='o', label=r'data - predictions', color='b', alpha=1)\n",
        "plt.fill_between(vals[2,:], vals[0,:] - vals[1,:], vals[0,:] + vals[1,:], alpha=0.3, label=r'$\\sigma$',interpolate=True, color='blue')\n",
        "plt.fill_between(vals[2,:], vals[0,:] - 2*vals[1,:], vals[0,:] + 2*vals[1,:], alpha=0.2, label=r'$2\\sigma$', interpolate=True, color='b')\n",
        "plt.xlabel('Data')\n",
        "plt.ylabel('Predictions')\n",
        "plt.savefig(\"R_Ba.png\")\n",
        "files.download(\"R_Ba.png\") \n",
        "plt.legend()\n",
        "plt.xlabel('Data')\n",
        "plt.ylabel('Predictions')\n",
        "plt.show()\n",
        "\n",
        "\n",
        "Z = (vals[2,:] - vals[0, :])/(vals[1,:])\n",
        "x = np.linspace(-5,5, 1000)\n",
        "norm = 1/np.sqrt(2 * np.pi) * np.exp(-1/2 * x**2) #N(0,1) to compare with Z \n",
        "\n",
        "\n",
        "plt.figure(num=None, figsize=(8, 6), dpi=80, facecolor='w', edgecolor='k')\n",
        "plt.hist(Z, density=True, label=r'$Z=(Data-Predictions)/\\sigma$', color='limegreen', bins=20)\n",
        "plt.plot(x,norm, label='N(0,1)', color='k', linestyle='--')\n",
        "plt.legend()\n",
        "plt.savefig(\"H_Ba.png\")\n",
        "files.download(\"H_Ba.png\") \n",
        "plt.show()\n",
        "print(Z.mean())\n"
      ],
      "execution_count": null,
      "outputs": []
    },
    {
      "cell_type": "code",
      "metadata": {
        "id": "ID9UaZX-nN7X"
      },
      "source": [
        "\n",
        "\n",
        "\n",
        "print(np.mean(np.abs(Prot - vals[0,:]))) "
      ],
      "execution_count": null,
      "outputs": []
    },
    {
      "cell_type": "code",
      "metadata": {
        "id": "jPeqkRQgD8Jr"
      },
      "source": [
        "\n",
        "### Fix B-V for sveral valuea and plot age vs roation for Barnes and GP. Should see that for Young stars, Barnes and GP agree fairly well as Barnes callibrated on young stars. On Older Barnes will be bad. GP has more flexibility. Should wee GP predicticint faster than Barnes.\n",
        "\n",
        "#histogram of the differences between old uncertaintiy and new uncertainity(latent variables SD)\n",
        "new_err = ([ trace.get_values('Age_true')[:,i].std()for i in range(data_points)])\n",
        "old_err = Age_err\n",
        "plt.hist(old_err - new_err)\n",
        "plt.show()\n",
        "plt.plot(old_err, new_err,'o')\n",
        "plt.plot([0,3], [0,3])\n",
        "plt.xlabel('old error')\n",
        "plt.ylabel('New error')\n",
        "plt.savefig('err_diff_Ba.png')\n",
        "files.download('err_diff_Ba.png')\n",
        "# give this a section "
      ],
      "execution_count": null,
      "outputs": []
    },
    {
      "cell_type": "code",
      "metadata": {
        "id": "wdM2CLaYR8SK"
      },
      "source": [
        "new_err = np.mean([ trace.get_values('Age_true')[:,i].std()/  trace.get_values('Age_true')[:,i].mean() for i in range(data_points)])\n",
        "old_err =np.mean(np.abs(Age_err/Age))\n",
        "\n",
        "\n",
        "print('Initianl error: ', old_err*100, '%')\n",
        "print('New error: ', new_err*100,'%')\n",
        "print(\"Difference in error = {}%  :)\".format(round((new_err-old_err)*100,5)))\n"
      ],
      "execution_count": null,
      "outputs": []
    },
    {
      "cell_type": "markdown",
      "metadata": {
        "id": "iCEjdFI5Lxb6"
      },
      "source": [
        "These two plots are evidence that this model does fit the data very well. We can use the parameters and hyper parameters gathered here for future GP implementations on true data. "
      ]
    },
    {
      "cell_type": "markdown",
      "metadata": {
        "id": "9O4Ye8PYyfMF"
      },
      "source": [
        "Second fast component t the gp when we dont have B-V"
      ]
    }
  ]
}
