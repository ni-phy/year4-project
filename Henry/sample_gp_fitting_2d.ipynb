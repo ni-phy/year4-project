{
  "nbformat": 4,
  "nbformat_minor": 0,
  "metadata": {
    "colab": {
      "name": "sample gp fitting 2d.ipynb",
      "provenance": [],
      "collapsed_sections": []
    },
    "kernelspec": {
      "name": "python3",
      "display_name": "Python 3"
    }
  },
  "cells": [
    {
      "cell_type": "code",
      "metadata": {
        "id": "Y2q42cTAsMdB"
      },
      "source": [
        "\n",
        "import matplotlib.pyplot as plt\n",
        "from mpl_toolkits.mplot3d import Axes3D\n",
        "\n",
        "import numpy as np\n",
        "import scipy as sp\n",
        "\n",
        "import pymc3 as pm\n",
        "import theano.tensor as tt\n",
        "\n",
        "\n",
        "import seaborn as sns\n",
        "\n",
        "\n"
      ],
      "execution_count": 1,
      "outputs": []
    },
    {
      "cell_type": "markdown",
      "metadata": {
        "id": "kMembnxCcM_-"
      },
      "source": [
        "Primary resources for making this: \n",
        "https://docs.pymc.io/notebooks/GP-Marginal.html\n",
        "https://github.com/fonnesbeck/gp_regression\n",
        "\n",
        "Look into: \n",
        "https://docs.pymc.io/notebooks/posterior_predictive.html\n"
      ]
    },
    {
      "cell_type": "code",
      "metadata": {
        "id": "XwD4n-ZMsa4_",
        "outputId": "2c470809-0982-468c-f65d-17c0d9553b61",
        "colab": {
          "base_uri": "https://localhost:8080/",
          "height": 35
        }
      },
      "source": [
        "from google.colab import drive\n",
        "drive.mount('/content/drive')\n",
        "\n"
      ],
      "execution_count": 2,
      "outputs": [
        {
          "output_type": "stream",
          "text": [
            "Drive already mounted at /content/drive; to attempt to forcibly remount, call drive.mount(\"/content/drive\", force_remount=True).\n"
          ],
          "name": "stdout"
        }
      ]
    },
    {
      "cell_type": "code",
      "metadata": {
        "id": "0YW85-BrUvl9"
      },
      "source": [
        "\n",
        "map = False\n",
        "dim = '3d'"
      ],
      "execution_count": 3,
      "outputs": []
    },
    {
      "cell_type": "code",
      "metadata": {
        "id": "Txco-RxS82z9"
      },
      "source": [
        "if dim == '2d':\n",
        "  data = np.genfromtxt('/content/drive/My Drive/data/gyro_fake_data_v0.csv', delimiter=',', skip_header=1)\n",
        "elif dim == '3d':\n",
        "  data = np.genfromtxt('/content/drive/My Drive/data/gyro_fake_data_v1.csv', delimiter=',', skip_header=1)\n"
      ],
      "execution_count": 4,
      "outputs": []
    },
    {
      "cell_type": "code",
      "metadata": {
        "id": "bDwzpTV3JRLl"
      },
      "source": [
        "class Sqr_root(pm.gp.mean.Mean):\n",
        "    '''Custom mean func of sqr root'''\n",
        "    def __init__(self, coeffs=0, intercept=0):\n",
        "        pm.gp.mean.Mean.__init__(self)\n",
        "        self.b = intercept\n",
        "        self.A = coeffs\n",
        "\n",
        "    def __call__(self, X):\n",
        "        return tt.squeeze(tt.dot(X**0.5, self.A) + self.b)\n",
        "        #return tt.alloc(tt.add(tt.dot(tt.sqrt(X), self.A), self.B), X.shape[0])\n",
        "     #   return tt.squeeze(tt.dot(X, self.A) + self.b)\n",
        "     \n",
        "\n",
        "\n",
        "\n",
        "\n",
        "\n",
        "\n",
        "\n",
        "\n"
      ],
      "execution_count": 5,
      "outputs": []
    },
    {
      "cell_type": "code",
      "metadata": {
        "id": "p6zpD_4asRxC",
        "outputId": "8a2e0edc-f472-4aaa-9885-51b5fa2b0318",
        "colab": {
          "base_uri": "https://localhost:8080/",
          "height": 54
        }
      },
      "source": [
        "\n",
        "\n",
        "y = data[:, 1][0::10] # Age\n",
        "X1 = data[:, 3][0::10] # rotation\n",
        "X2 = data[:, 2][0::10] # B-V \n",
        "\n",
        "Xs = np.array([X1, X2]).T\n",
        "print(Xs.shape)\n",
        "print(y.shape)\n",
        "\n",
        "\n",
        "\n",
        "#nd = 20\n",
        "\n",
        "#xu1, xu2 = np.meshgrid(np.linspace(np.amin(X1), np.amax(X1), nd), np.linspace(np.amin(X2), np.amax(X2), nd))\n",
        "#Xu = np.concatenate([xu1.reshape(nd*nd, 1), xu2.reshape(nd*nd, 1)], 1).T\n",
        "# array of inducing points - not too sure what this means but I think its used to reduce the number of input data points and thus computatioanl stress \n",
        "\n",
        "\n",
        "with pm.Model() as model:\n",
        "    \n",
        "\n",
        "    l1 = pm.Normal('l1', mu = 12, sigma=5)\n",
        "    l2 = pm.Normal('l2', mu = 12, sigma=5)\n",
        "\n",
        "\n",
        "    sigmaf1 = pm.HalfCauchy('sigmaf1', beta=5)\n",
        "    sigmaf2 = pm.HalfCauchy('sigmaf2', beta=5)\n",
        "    sigman = pm.HalfCauchy('sigman', beta=5)\n",
        "  #  sigma2 = pm.HalfCauchy('sigma2', beta=5)\n",
        "\n",
        "\n",
        "\n",
        "   # mean = Sqr_root((y/X).mean()) # This is where I have the best success\n",
        "    mean = 0\n",
        " \n",
        "\n",
        "    K1 = pm.gp.cov.ExpQuad(2, l1) * sigmaf1**2\n",
        "    K2 = pm.gp.cov.ExpQuad(2, l1) * sigmaf2**2\n",
        "\n",
        "    K = K1 + K2\n",
        "    #K = K1 * K2\n",
        "    # could combine multiple Gps, but probably not neccesary \n",
        "\n",
        "\n",
        "    gp = pm.gp.Marginal(cov_func=K)\n",
        "    obs = gp.marginal_likelihood(\"obs\", X=Xs, y=y, noise=sigman)\n",
        "\n",
        "    if map:\n",
        "        mp = pm.find_MAP()\n",
        "    \n",
        "\n",
        "#print(mp)"
      ],
      "execution_count": 6,
      "outputs": [
        {
          "output_type": "stream",
          "text": [
            "(100, 2)\n",
            "(100,)\n"
          ],
          "name": "stdout"
        }
      ]
    },
    {
      "cell_type": "code",
      "metadata": {
        "id": "QJ2cYX0Dl4Ts",
        "outputId": "fbcdfa99-aa22-404f-cc75-6351a5701d31",
        "colab": {
          "base_uri": "https://localhost:8080/",
          "height": 259
        }
      },
      "source": [
        "if not map:\n",
        "  with model:\n",
        "    mp = pm.sample(2000, tune=1000, cores=4)\n",
        " # dont need if using find map\n",
        "print(mp)"
      ],
      "execution_count": 7,
      "outputs": [
        {
          "output_type": "stream",
          "text": [
            "Auto-assigning NUTS sampler...\n",
            "Initializing NUTS using jitter+adapt_diag...\n",
            "WARNING (theano.tensor.blas): We did not find a dynamic library in the library_dir of the library we use for blas. If you use ATLAS, make sure to compile it with dynamics library.\n",
            "Multiprocess sampling (4 chains in 4 jobs)\n",
            "NUTS: [sigman, sigmaf2, sigmaf1, l2, l1]\n",
            "Sampling 4 chains: 100%|██████████| 12000/12000 [13:33<00:00, 14.76draws/s]\n",
            "There were 3 divergences after tuning. Increase `target_accept` or reparameterize.\n",
            "The acceptance probability does not match the target. It is 0.7062755520284318, but should be close to 0.8. Try to increase the number of tuning steps.\n",
            "There were 3 divergences after tuning. Increase `target_accept` or reparameterize.\n",
            "The acceptance probability does not match the target. It is 0.6496076823826632, but should be close to 0.8. Try to increase the number of tuning steps.\n",
            "The number of effective samples is smaller than 10% for some parameters.\n"
          ],
          "name": "stderr"
        },
        {
          "output_type": "stream",
          "text": [
            "<MultiTrace: 4 chains, 2000 iterations, 8 variables>\n"
          ],
          "name": "stdout"
        }
      ]
    },
    {
      "cell_type": "code",
      "metadata": {
        "id": "pA2TayP69uE_",
        "outputId": "629fcb33-eef2-4483-e296-69ef1b7dabd5",
        "colab": {
          "base_uri": "https://localhost:8080/",
          "height": 148
        }
      },
      "source": [
        "num_gen = 25\n",
        "\n",
        "# make a new 2d distribution that has a much better resolution than the data than temsslvese\n",
        "Xnew1 = np.linspace(np.amin(X1), np.amax(X1), num_gen)\n",
        "Xnew2 = np.linspace(np.amin(X2), np.amax(X2), num_gen)\n",
        "\n",
        "Xnew = np.array(np.meshgrid(Xnew1, Xnew2 )).T.reshape(-1,2)\n",
        "#Xnew = pm.math.cartesian(Xnew1[:,None], Xnew2[:,None])\n",
        "print(Xnew.shape)\n",
        "\n",
        "#X_test = np.dstack([X1_test, X2_test]).reshape(resolution, resolution, 2)\n",
        "#Xnew = np.array([Xnew1, Xnew2]).T\n",
        "\n",
        "\n",
        "#Xnew = np.dstack([Xnew1, Xnew2]).reshape(num_gen, num_gen,2)\n",
        "\n",
        "\n",
        "\n",
        "# these are the points to sample data and the function at, going accross whole range of avaible bv and rot periods 40x40, cant go any higher or runs out of ram\n",
        "\n",
        "print('here')\n",
        "\n",
        "\n",
        "\n",
        "with model:\n",
        "  f_pred = gp.conditional('f_pred', Xnew, pred_noise=False) # predict function\n",
        "  pred_samples = pm.sample_posterior_predictive([mp], vars=[f_pred], samples=400) # predicts 1000 data points?"
      ],
      "execution_count": 8,
      "outputs": [
        {
          "output_type": "stream",
          "text": [
            "(625, 2)\n",
            "here\n"
          ],
          "name": "stdout"
        },
        {
          "output_type": "stream",
          "text": [
            "  0%|          | 0/400 [00:00<?, ?it/s]WARNING (theano.tensor.blas): We did not find a dynamic library in the library_dir of the library we use for blas. If you use ATLAS, make sure to compile it with dynamics library.\n",
            " 34%|███▍      | 137/400 [01:55<03:40,  1.19it/s]/usr/local/lib/python3.6/dist-packages/scipy/stats/_multivariate.py:660: RuntimeWarning: covariance is not positive-semidefinite.\n",
            "  out = random_state.multivariate_normal(mean, cov, size)\n",
            "100%|██████████| 400/400 [05:29<00:00,  1.22it/s]\n"
          ],
          "name": "stderr"
        }
      ]
    },
    {
      "cell_type": "code",
      "metadata": {
        "id": "EASDueMLA7On"
      },
      "source": [
        "mu, var = gp.predict(Xnew, point=[mp], diag=True, pred_noise=False)\n",
        "sd = np.sqrt(var)"
      ],
      "execution_count": 9,
      "outputs": []
    },
    {
      "cell_type": "code",
      "metadata": {
        "id": "nFEQmZDd0A7c",
        "outputId": "ba09be4c-13e0-4c8b-e232-1125cfbb202a",
        "colab": {
          "base_uri": "https://localhost:8080/",
          "height": 35
        }
      },
      "source": [
        "#print(mu)\n",
        "\n",
        "#mu = np.reshape(mu, (25,25))\n",
        "mu = (np.reshape(mu, (-1, num_gen)))\n",
        "#print(np.squeeze(mu).shape)\n",
        "print(mu.shape)\n",
        "#print(Xnew1.shape)\n"
      ],
      "execution_count": 10,
      "outputs": [
        {
          "output_type": "stream",
          "text": [
            "(25, 25)\n"
          ],
          "name": "stdout"
        }
      ]
    },
    {
      "cell_type": "markdown",
      "metadata": {
        "id": "yX6Jm03zGAVt"
      },
      "source": [
        ""
      ]
    },
    {
      "cell_type": "code",
      "metadata": {
        "id": "AqGcR-DY_2jM",
        "outputId": "e732b73b-b665-480a-8daa-d0dc6e7c90b6",
        "colab": {
          "base_uri": "https://localhost:8080/",
          "height": 883
        }
      },
      "source": [
        "fig = plt.figure(figsize=(20,15))\n",
        "ax = fig.add_subplot(111, projection='3d')\n",
        "\n",
        "\n",
        "from pymc3.gp.util import plot_gp_dist\n",
        "\n",
        "#Axes3d.plot_wireframe(y, z, X)\n",
        "\n",
        "#plot_gp_dist(ax, pred_samples[\"f_pred\"], Xnew)\n",
        "\n",
        "ax.view_init(0, 40)\n",
        "ax.plot_surface(Xnew1, Xnew2, mu, alpha=0.5, linewidth=0)\n",
        "ax.scatter(X1, X2, y)\n",
        "\n",
        "#plt.xlim(0,13.4)\n",
        "\n",
        "# axis labels and title\n",
        "plt.xlabel(\"rotation\")\n",
        "plt.ylabel(\"BV\")\n",
        "#ax.set_zlabel('Age')\n",
        "plt.title(\"Posterior distribution over $f(x)$ at the observed values\"); plt.legend()\n",
        "\n",
        "\n",
        "\n"
      ],
      "execution_count": 11,
      "outputs": [
        {
          "output_type": "stream",
          "text": [
            "No handles with labels found to put in legend.\n"
          ],
          "name": "stderr"
        },
        {
          "output_type": "execute_result",
          "data": {
            "text/plain": [
              "<matplotlib.legend.Legend at 0x7f7c58f81b70>"
            ]
          },
          "metadata": {
            "tags": []
          },
          "execution_count": 11
        },
        {
          "output_type": "display_data",
          "data": {
            "image/png": "[encoded data removed]",
            "text/plain": [
              "<Figure size 1440x1080 with 1 Axes>"
            ]
          },
          "metadata": {
            "tags": [],
            "needs_background": "light"
          }
        }
      ]
    },
    {
      "cell_type": "code",
      "metadata": {
        "id": "sGJOZDYzl2Oi",
        "outputId": "19918a29-6392-41ae-f6b6-58bccf5cb238",
        "colab": {
          "base_uri": "https://localhost:8080/",
          "height": 173
        }
      },
      "source": [
        "print(trace)"
      ],
      "execution_count": 12,
      "outputs": [
        {
          "output_type": "error",
          "ename": "NameError",
          "evalue": "ignored",
          "traceback": [
            "\u001b[0;31m---------------------------------------------------------------------------\u001b[0m",
            "\u001b[0;31mNameError\u001b[0m                                 Traceback (most recent call last)",
            "\u001b[0;32m<ipython-input-12-11dc7d9eda2e>\u001b[0m in \u001b[0;36m<module>\u001b[0;34m()\u001b[0m\n\u001b[0;32m----> 1\u001b[0;31m \u001b[0mprint\u001b[0m\u001b[0;34m(\u001b[0m\u001b[0mtrace\u001b[0m\u001b[0;34m)\u001b[0m\u001b[0;34m\u001b[0m\u001b[0;34m\u001b[0m\u001b[0m\n\u001b[0m",
            "\u001b[0;31mNameError\u001b[0m: name 'trace' is not defined"
          ]
        }
      ]
    }
  ]
}